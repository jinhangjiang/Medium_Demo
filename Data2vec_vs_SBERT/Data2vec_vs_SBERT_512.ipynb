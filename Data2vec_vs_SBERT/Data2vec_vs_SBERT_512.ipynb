{
  "nbformat": 4,
  "nbformat_minor": 0,
  "metadata": {
    "colab": {
      "name": "Data2vec vs. SBERT.ipynb",
      "provenance": [],
      "collapsed_sections": [],
      "machine_shape": "hm"
    },
    "kernelspec": {
      "name": "python3",
      "display_name": "Python 3"
    },
    "language_info": {
      "name": "python"
    },
    "accelerator": "GPU"
  },
  "cells": [
    {
      "cell_type": "markdown",
      "source": [
        "# Data2vec vs. SBERT\n",
        "https://www.kaggle.com/datasets/shivamkushwaha/bbc-full-text-document-classification"
      ],
      "metadata": {
        "id": "4yPYJzqecfzw"
      }
    },
    {
      "cell_type": "code",
      "source": [
        "!pip install torch transformers memory_profiler datasets\n",
        "import time\n",
        "import datetime\n",
        "tic = time.time()"
      ],
      "metadata": {
        "id": "eYRNwnBd6E-t",
        "colab": {
          "base_uri": "https://localhost:8080/"
        },
        "outputId": "0b2196ce-1c50-4107-d7a1-9f6d8f0787a2"
      },
      "execution_count": 1,
      "outputs": [
        {
          "output_type": "stream",
          "name": "stdout",
          "text": [
            "Requirement already satisfied: transformers in /usr/local/lib/python3.7/dist-packages (4.19.2)\n",
            "Requirement already satisfied: memory_profiler in /usr/local/lib/python3.7/dist-packages (0.60.0)\n",
            "Requirement already satisfied: sentence_transformers in /usr/local/lib/python3.7/dist-packages (2.2.0)\n",
            "Requirement already satisfied: scikit-learn-intelex in /usr/local/lib/python3.7/dist-packages (2021.5.3)\n",
            "Requirement already satisfied: datasets in /usr/local/lib/python3.7/dist-packages (2.2.1)\n",
            "Requirement already satisfied: filelock in /usr/local/lib/python3.7/dist-packages (from transformers) (3.6.0)\n",
            "Requirement already satisfied: huggingface-hub<1.0,>=0.1.0 in /usr/local/lib/python3.7/dist-packages (from transformers) (0.6.0)\n",
            "Requirement already satisfied: tokenizers!=0.11.3,<0.13,>=0.11.1 in /usr/local/lib/python3.7/dist-packages (from transformers) (0.12.1)\n",
            "Requirement already satisfied: packaging>=20.0 in /usr/local/lib/python3.7/dist-packages (from transformers) (21.3)\n",
            "Requirement already satisfied: regex!=2019.12.17 in /usr/local/lib/python3.7/dist-packages (from transformers) (2019.12.20)\n",
            "Requirement already satisfied: pyyaml>=5.1 in /usr/local/lib/python3.7/dist-packages (from transformers) (6.0)\n",
            "Requirement already satisfied: requests in /usr/local/lib/python3.7/dist-packages (from transformers) (2.23.0)\n",
            "Requirement already satisfied: tqdm>=4.27 in /usr/local/lib/python3.7/dist-packages (from transformers) (4.64.0)\n",
            "Requirement already satisfied: numpy>=1.17 in /usr/local/lib/python3.7/dist-packages (from transformers) (1.21.6)\n",
            "Requirement already satisfied: importlib-metadata in /usr/local/lib/python3.7/dist-packages (from transformers) (4.11.3)\n",
            "Requirement already satisfied: typing-extensions>=3.7.4.3 in /usr/local/lib/python3.7/dist-packages (from huggingface-hub<1.0,>=0.1.0->transformers) (4.2.0)\n",
            "Requirement already satisfied: pyparsing!=3.0.5,>=2.0.2 in /usr/local/lib/python3.7/dist-packages (from packaging>=20.0->transformers) (3.0.8)\n",
            "Requirement already satisfied: psutil in /usr/local/lib/python3.7/dist-packages (from memory_profiler) (5.4.8)\n",
            "Requirement already satisfied: scikit-learn in /usr/local/lib/python3.7/dist-packages (from sentence_transformers) (1.0.2)\n",
            "Requirement already satisfied: torch>=1.6.0 in /usr/local/lib/python3.7/dist-packages (from sentence_transformers) (1.11.0+cu113)\n",
            "Requirement already satisfied: torchvision in /usr/local/lib/python3.7/dist-packages (from sentence_transformers) (0.12.0+cu113)\n",
            "Requirement already satisfied: scipy in /usr/local/lib/python3.7/dist-packages (from sentence_transformers) (1.4.1)\n",
            "Requirement already satisfied: sentencepiece in /usr/local/lib/python3.7/dist-packages (from sentence_transformers) (0.1.96)\n",
            "Requirement already satisfied: nltk in /usr/local/lib/python3.7/dist-packages (from sentence_transformers) (3.2.5)\n",
            "Requirement already satisfied: daal4py==2021.5.3 in /usr/local/lib/python3.7/dist-packages (from scikit-learn-intelex) (2021.5.3)\n",
            "Requirement already satisfied: daal==2021.5.3 in /usr/local/lib/python3.7/dist-packages (from daal4py==2021.5.3->scikit-learn-intelex) (2021.5.3)\n",
            "Requirement already satisfied: tbb==2021.* in /usr/local/lib/python3.7/dist-packages (from daal==2021.5.3->daal4py==2021.5.3->scikit-learn-intelex) (2021.6.0)\n",
            "Requirement already satisfied: threadpoolctl>=2.0.0 in /usr/local/lib/python3.7/dist-packages (from scikit-learn->sentence_transformers) (3.1.0)\n",
            "Requirement already satisfied: joblib>=0.11 in /usr/local/lib/python3.7/dist-packages (from scikit-learn->sentence_transformers) (1.1.0)\n",
            "Requirement already satisfied: pyarrow>=6.0.0 in /usr/local/lib/python3.7/dist-packages (from datasets) (6.0.1)\n",
            "Requirement already satisfied: multiprocess in /usr/local/lib/python3.7/dist-packages (from datasets) (0.70.12.2)\n",
            "Requirement already satisfied: pandas in /usr/local/lib/python3.7/dist-packages (from datasets) (1.3.5)\n",
            "Requirement already satisfied: responses<0.19 in /usr/local/lib/python3.7/dist-packages (from datasets) (0.18.0)\n",
            "Requirement already satisfied: dill in /usr/local/lib/python3.7/dist-packages (from datasets) (0.3.4)\n",
            "Requirement already satisfied: aiohttp in /usr/local/lib/python3.7/dist-packages (from datasets) (3.8.1)\n",
            "Requirement already satisfied: xxhash in /usr/local/lib/python3.7/dist-packages (from datasets) (3.0.0)\n",
            "Requirement already satisfied: fsspec[http]>=2021.05.0 in /usr/local/lib/python3.7/dist-packages (from datasets) (2022.3.0)\n",
            "Requirement already satisfied: idna<3,>=2.5 in /usr/local/lib/python3.7/dist-packages (from requests->transformers) (2.10)\n",
            "Requirement already satisfied: certifi>=2017.4.17 in /usr/local/lib/python3.7/dist-packages (from requests->transformers) (2021.10.8)\n",
            "Requirement already satisfied: chardet<4,>=3.0.2 in /usr/local/lib/python3.7/dist-packages (from requests->transformers) (3.0.4)\n",
            "Requirement already satisfied: urllib3!=1.25.0,!=1.25.1,<1.26,>=1.21.1 in /usr/local/lib/python3.7/dist-packages (from requests->transformers) (1.25.11)\n",
            "Requirement already satisfied: async-timeout<5.0,>=4.0.0a3 in /usr/local/lib/python3.7/dist-packages (from aiohttp->datasets) (4.0.2)\n",
            "Requirement already satisfied: asynctest==0.13.0 in /usr/local/lib/python3.7/dist-packages (from aiohttp->datasets) (0.13.0)\n",
            "Requirement already satisfied: yarl<2.0,>=1.0 in /usr/local/lib/python3.7/dist-packages (from aiohttp->datasets) (1.7.2)\n",
            "Requirement already satisfied: charset-normalizer<3.0,>=2.0 in /usr/local/lib/python3.7/dist-packages (from aiohttp->datasets) (2.0.12)\n",
            "Requirement already satisfied: frozenlist>=1.1.1 in /usr/local/lib/python3.7/dist-packages (from aiohttp->datasets) (1.3.0)\n",
            "Requirement already satisfied: aiosignal>=1.1.2 in /usr/local/lib/python3.7/dist-packages (from aiohttp->datasets) (1.2.0)\n",
            "Requirement already satisfied: multidict<7.0,>=4.5 in /usr/local/lib/python3.7/dist-packages (from aiohttp->datasets) (6.0.2)\n",
            "Requirement already satisfied: attrs>=17.3.0 in /usr/local/lib/python3.7/dist-packages (from aiohttp->datasets) (21.4.0)\n",
            "Requirement already satisfied: zipp>=0.5 in /usr/local/lib/python3.7/dist-packages (from importlib-metadata->transformers) (3.8.0)\n",
            "Requirement already satisfied: six in /usr/local/lib/python3.7/dist-packages (from nltk->sentence_transformers) (1.15.0)\n",
            "Requirement already satisfied: pytz>=2017.3 in /usr/local/lib/python3.7/dist-packages (from pandas->datasets) (2022.1)\n",
            "Requirement already satisfied: python-dateutil>=2.7.3 in /usr/local/lib/python3.7/dist-packages (from pandas->datasets) (2.8.2)\n",
            "Requirement already satisfied: pillow!=8.3.*,>=5.3.0 in /usr/local/lib/python3.7/dist-packages (from torchvision->sentence_transformers) (7.1.2)\n"
          ]
        }
      ]
    },
    {
      "cell_type": "code",
      "source": [
        "import torch\n",
        "import random\n",
        "from transformers.file_utils import is_tf_available, is_torch_available, is_torch_tpu_available\n",
        "from transformers import AutoTokenizer, AutoModelForSequenceClassification, Trainer, TrainingArguments\n",
        "from datasets import load_metric\n",
        "%load_ext memory_profiler\n",
        "from sklearn.model_selection import train_test_split\n",
        "import pandas as pd\n",
        "import numpy as np"
      ],
      "metadata": {
        "id": "dgHcijyVB9AA"
      },
      "execution_count": 2,
      "outputs": []
    },
    {
      "cell_type": "code",
      "source": [
        "df = pd.read_csv(\"/content/bbc-text.csv\")"
      ],
      "metadata": {
        "id": "B6vp41GfEzqw"
      },
      "execution_count": 3,
      "outputs": []
    },
    {
      "cell_type": "code",
      "source": [
        "print(df.category.unique())\n",
        "print(pd.factorize(df.category)[1])"
      ],
      "metadata": {
        "colab": {
          "base_uri": "https://localhost:8080/"
        },
        "id": "dyJU8sR8PiBu",
        "outputId": "9ebeefa9-41e5-42c1-ea32-586e8ed5af1c"
      },
      "execution_count": 4,
      "outputs": [
        {
          "output_type": "stream",
          "name": "stdout",
          "text": [
            "['tech' 'business' 'sport' 'entertainment' 'politics']\n",
            "Index(['tech', 'business', 'sport', 'entertainment', 'politics'], dtype='object')\n"
          ]
        }
      ]
    },
    {
      "cell_type": "markdown",
      "source": [
        "## Set Seed in Front"
      ],
      "metadata": {
        "id": "yGS8ptSeUJlb"
      }
    },
    {
      "cell_type": "code",
      "source": [
        "def set_seed(seed: int):\n",
        "  random.seed(seed)\n",
        "  np.random.seed(seed)\n",
        "  if is_torch_available():\n",
        "      torch.manual_seed(seed)\n",
        "      torch.cuda.manual_seed_all(seed)\n",
        "\n",
        "  if is_tf_available():\n",
        "      import tensorflow as tf\n",
        " \n",
        "      tf.random.set_seed(seed)\n",
        " \n",
        "set_seed(42)"
      ],
      "metadata": {
        "id": "jIQAA0bpUNnc"
      },
      "execution_count": 5,
      "outputs": []
    },
    {
      "cell_type": "markdown",
      "source": [
        "## Build Classifier with Transformer"
      ],
      "metadata": {
        "id": "kUeAeiZCUzXH"
      }
    },
    {
      "cell_type": "code",
      "source": [
        "def TextClassification_with_Transformer(model_name: str, Data: pd.Series, Target:pd.Series, test_size: np.float64, max_length: int, num_labels: int, num_epochs: int, metrics_name: str):\n",
        "\n",
        "  # Make data\n",
        "  X = Data\n",
        "  y = Target\n",
        "  y = pd.factorize(y)[0]\n",
        "\n",
        "  # Load Metrics\n",
        "  metric = load_metric(metrics_name)\n",
        "\n",
        "  # Split Data\n",
        "  X_train, X_test, y_train, y_test = train_test_split(X.tolist(), y, test_size=test_size)\n",
        "\n",
        "  # Call the Tokenizer\n",
        "  tokenizer = AutoTokenizer.from_pretrained(model_name, do_lower_case=True)\n",
        "\n",
        "  # Encode the text\n",
        "  train_encodings = tokenizer(X_train, truncation=True, padding=True, max_length=max_length)\n",
        "  valid_encodings = tokenizer(X_test, truncation=True, padding=True, max_length=max_length)\n",
        "\n",
        "\n",
        "\n",
        "  class MakeTorchData(torch.utils.data.Dataset):\n",
        "      def __init__(self, encodings, labels):\n",
        "          self.encodings = encodings\n",
        "          self.labels = labels\n",
        "\n",
        "      def __getitem__(self, idx):\n",
        "          item = {k: torch.tensor(v[idx]) for k, v in self.encodings.items()}\n",
        "          item[\"labels\"] = torch.tensor([self.labels[idx]])\n",
        "          return item\n",
        "\n",
        "      def __len__(self):\n",
        "          return len(self.labels)\n",
        "\n",
        "  # convert our tokenized data into a torch Dataset\n",
        "  train_dataset = MakeTorchData(train_encodings, y_train.ravel())\n",
        "  valid_dataset = MakeTorchData(valid_encodings, y_test.ravel())\n",
        "\n",
        "\n",
        "  # Call Model\n",
        "  model = AutoModelForSequenceClassification.from_pretrained(model_name, num_labels = num_labels).to(\"cuda\")\n",
        "\n",
        "  # Create Metrics\n",
        "  def compute_metrics(eval_pred):\n",
        "\n",
        "    predictions, labels = eval_pred\n",
        "    predictions = np.argmax(predictions, axis=1)\n",
        "\n",
        "    # 'micro', 'macro', etc. are for multi-label classification. If you are running a binary classification, leave it as default or specify \"binary\" for average\n",
        "    return metric.compute(predictions=predictions, references=labels, average=\"micro\")  \n",
        "\n",
        "  # Specifiy the arguments for the trainer  \n",
        "  training_args = TrainingArguments(\n",
        "      output_dir='./results',          # output directory\n",
        "      num_train_epochs=num_epochs,     # total number of training epochs\n",
        "      per_device_train_batch_size=8,   # batch size per device during training\n",
        "      per_device_eval_batch_size=20,   # batch size for evaluation\n",
        "      warmup_steps=500,                # number of warmup steps for learning rate scheduler\n",
        "      weight_decay=0.01,               # strength of weight decay\n",
        "      logging_dir='./logs',            # directory for storing logs\n",
        "      load_best_model_at_end=True,     # load the best model when finished training (default metric is loss)\n",
        "      metric_for_best_model = metrics_name,    # select the base metrics\n",
        "      logging_steps=200,               # log & save weights each logging_steps\n",
        "      save_steps=200,\n",
        "      evaluation_strategy=\"steps\",     # evaluate each `logging_steps`\n",
        "  ) \n",
        "\n",
        "  # Call the Trainer\n",
        "  trainer = Trainer(\n",
        "      model=model,                         # the instantiated Transformers model to be trained\n",
        "      args=training_args,                  # training arguments, defined above\n",
        "      train_dataset=train_dataset,         # training dataset\n",
        "      eval_dataset=valid_dataset,          # evaluation dataset\n",
        "      compute_metrics=compute_metrics,     # the callback that computes metrics of interest\n",
        "  )\n",
        "\n",
        "  # Call the summary\n",
        "  trainer.evaluate()\n",
        "\n",
        "  # Train the model\n",
        "  trainer.train()\n",
        "\n",
        "  return trainer, model"
      ],
      "metadata": {
        "id": "vnyR9kXPUyq3"
      },
      "execution_count": 6,
      "outputs": []
    },
    {
      "cell_type": "markdown",
      "source": [
        "## Sentence BERT"
      ],
      "metadata": {
        "id": "WLZJ5_InLFob"
      }
    },
    {
      "cell_type": "code",
      "source": [
        "%%time\n",
        "%%memit\n",
        "sbert_trainer, sbert_model = TextClassification_with_Transformer(model_name = 'sentence-transformers/all-mpnet-base-v2', \n",
        "                                                                 Data = df.text, \n",
        "                                                                 Target = df.category, \n",
        "                                                                 test_size = 0.33, \n",
        "                                                                 max_length = 512, \n",
        "                                                                 num_labels = 5, \n",
        "                                                                 num_epochs = 5, \n",
        "                                                                 metrics_name='f1')"
      ],
      "metadata": {
        "colab": {
          "base_uri": "https://localhost:8080/",
          "height": 1000
        },
        "id": "x6sMThCulPul",
        "outputId": "1a805647-3287-4ea5-8ab8-271d23d0c066"
      },
      "execution_count": 7,
      "outputs": [
        {
          "output_type": "stream",
          "name": "stderr",
          "text": [
            "Some weights of the model checkpoint at sentence-transformers/all-mpnet-base-v2 were not used when initializing MPNetForSequenceClassification: ['pooler.dense.bias', 'pooler.dense.weight']\n",
            "- This IS expected if you are initializing MPNetForSequenceClassification from the checkpoint of a model trained on another task or with another architecture (e.g. initializing a BertForSequenceClassification model from a BertForPreTraining model).\n",
            "- This IS NOT expected if you are initializing MPNetForSequenceClassification from the checkpoint of a model that you expect to be exactly identical (initializing a BertForSequenceClassification model from a BertForSequenceClassification model).\n",
            "Some weights of MPNetForSequenceClassification were not initialized from the model checkpoint at sentence-transformers/all-mpnet-base-v2 and are newly initialized: ['classifier.dense.weight', 'classifier.out_proj.weight', 'classifier.out_proj.bias', 'classifier.dense.bias']\n",
            "You should probably TRAIN this model on a down-stream task to be able to use it for predictions and inference.\n",
            "***** Running Evaluation *****\n",
            "  Num examples = 735\n",
            "  Batch size = 20\n"
          ]
        },
        {
          "output_type": "display_data",
          "data": {
            "text/plain": [
              "<IPython.core.display.HTML object>"
            ],
            "text/html": [
              "\n",
              "    <div>\n",
              "      \n",
              "      <progress value='74' max='37' style='width:300px; height:20px; vertical-align: middle;'></progress>\n",
              "      [37/37 03:22]\n",
              "    </div>\n",
              "    "
            ]
          },
          "metadata": {}
        },
        {
          "output_type": "stream",
          "name": "stderr",
          "text": [
            "/usr/local/lib/python3.7/dist-packages/transformers/optimization.py:309: FutureWarning: This implementation of AdamW is deprecated and will be removed in a future version. Use the PyTorch implementation torch.optim.AdamW instead, or set `no_deprecation_warning=True` to disable this warning\n",
            "  FutureWarning,\n",
            "***** Running training *****\n",
            "  Num examples = 1490\n",
            "  Num Epochs = 5\n",
            "  Instantaneous batch size per device = 8\n",
            "  Total train batch size (w. parallel, distributed & accumulation) = 8\n",
            "  Gradient Accumulation steps = 1\n",
            "  Total optimization steps = 935\n"
          ]
        },
        {
          "output_type": "display_data",
          "data": {
            "text/plain": [
              "<IPython.core.display.HTML object>"
            ],
            "text/html": [
              "\n",
              "    <div>\n",
              "      \n",
              "      <progress value='935' max='935' style='width:300px; height:20px; vertical-align: middle;'></progress>\n",
              "      [935/935 14:45, Epoch 5/5]\n",
              "    </div>\n",
              "    <table border=\"1\" class=\"dataframe\">\n",
              "  <thead>\n",
              " <tr style=\"text-align: left;\">\n",
              "      <th>Step</th>\n",
              "      <th>Training Loss</th>\n",
              "      <th>Validation Loss</th>\n",
              "      <th>F1</th>\n",
              "    </tr>\n",
              "  </thead>\n",
              "  <tbody>\n",
              "    <tr>\n",
              "      <td>200</td>\n",
              "      <td>1.249900</td>\n",
              "      <td>0.517518</td>\n",
              "      <td>0.980952</td>\n",
              "    </tr>\n",
              "    <tr>\n",
              "      <td>400</td>\n",
              "      <td>0.256800</td>\n",
              "      <td>0.145508</td>\n",
              "      <td>0.967347</td>\n",
              "    </tr>\n",
              "    <tr>\n",
              "      <td>600</td>\n",
              "      <td>0.078500</td>\n",
              "      <td>0.089774</td>\n",
              "      <td>0.982313</td>\n",
              "    </tr>\n",
              "    <tr>\n",
              "      <td>800</td>\n",
              "      <td>0.022200</td>\n",
              "      <td>0.094133</td>\n",
              "      <td>0.982313</td>\n",
              "    </tr>\n",
              "  </tbody>\n",
              "</table><p>"
            ]
          },
          "metadata": {}
        },
        {
          "output_type": "stream",
          "name": "stderr",
          "text": [
            "***** Running Evaluation *****\n",
            "  Num examples = 735\n",
            "  Batch size = 20\n",
            "Saving model checkpoint to ./results/checkpoint-200\n",
            "Configuration saved in ./results/checkpoint-200/config.json\n",
            "Model weights saved in ./results/checkpoint-200/pytorch_model.bin\n",
            "***** Running Evaluation *****\n",
            "  Num examples = 735\n",
            "  Batch size = 20\n",
            "Saving model checkpoint to ./results/checkpoint-400\n",
            "Configuration saved in ./results/checkpoint-400/config.json\n",
            "Model weights saved in ./results/checkpoint-400/pytorch_model.bin\n",
            "***** Running Evaluation *****\n",
            "  Num examples = 735\n",
            "  Batch size = 20\n",
            "Saving model checkpoint to ./results/checkpoint-600\n",
            "Configuration saved in ./results/checkpoint-600/config.json\n",
            "Model weights saved in ./results/checkpoint-600/pytorch_model.bin\n",
            "***** Running Evaluation *****\n",
            "  Num examples = 735\n",
            "  Batch size = 20\n",
            "Saving model checkpoint to ./results/checkpoint-800\n",
            "Configuration saved in ./results/checkpoint-800/config.json\n",
            "Model weights saved in ./results/checkpoint-800/pytorch_model.bin\n",
            "\n",
            "\n",
            "Training completed. Do not forget to share your model on huggingface.co/models =)\n",
            "\n",
            "\n",
            "Loading best model from ./results/checkpoint-600 (score: 0.9823129251700681).\n"
          ]
        },
        {
          "output_type": "stream",
          "name": "stdout",
          "text": [
            "peak memory: 5553.71 MiB, increment: 4769.99 MiB\n",
            "CPU times: user 13min 52s, sys: 1min 47s, total: 15min 39s\n",
            "Wall time: 15min 21s\n"
          ]
        }
      ]
    },
    {
      "cell_type": "markdown",
      "source": [
        "## Data2vec"
      ],
      "metadata": {
        "id": "8CDSheL3LNdJ"
      }
    },
    {
      "cell_type": "code",
      "source": [
        "%%time\n",
        "%%memit\n",
        "d2v_trainer, d2v_model = TextClassification_with_Transformer(model_name = 'facebook/data2vec-text-base', \n",
        "                                                             Data = df.text, \n",
        "                                                             Target = df.category, \n",
        "                                                             test_size = 0.33, \n",
        "                                                             max_length = 512, \n",
        "                                                             num_labels = 5, \n",
        "                                                             num_epochs = 5, \n",
        "                                                             metrics_name='f1')"
      ],
      "metadata": {
        "colab": {
          "base_uri": "https://localhost:8080/",
          "height": 1000
        },
        "id": "s2F6gSbfLQGE",
        "outputId": "64204729-0d44-4d86-b1f1-25522c47a4fa"
      },
      "execution_count": 8,
      "outputs": [
        {
          "output_type": "stream",
          "name": "stderr",
          "text": [
            "loading file https://huggingface.co/facebook/data2vec-text-base/resolve/main/vocab.json from cache at /root/.cache/huggingface/transformers/8a26e82a7994252ab80418013496f0089bbc1f3167ca799b74147245bfa30d89.647b4548b6d9ea817e82e7a9231a320231a1c9ea24053cc9e758f3fe68216f05\n",
            "loading file https://huggingface.co/facebook/data2vec-text-base/resolve/main/merges.txt from cache at /root/.cache/huggingface/transformers/db31ffa8db62dd6e18780a442fba9502d3ca43d64d1e714a11be2b063c59cfe4.5d12962c5ee615a4c803841266e9c3be9a691a924f72d395d3a6c6c81157788b\n",
            "loading file https://huggingface.co/facebook/data2vec-text-base/resolve/main/tokenizer.json from cache at /root/.cache/huggingface/transformers/c9deca35b050f45baa1bfef9ac6e3fc10de35be4c63bd065522850597d5dd03b.f6b9dbf7e3ca499065821a947cf6d02c3ba413a3aea9981306737265d081c3ff\n",
            "loading file https://huggingface.co/facebook/data2vec-text-base/resolve/main/added_tokens.json from cache at None\n",
            "loading file https://huggingface.co/facebook/data2vec-text-base/resolve/main/special_tokens_map.json from cache at /root/.cache/huggingface/transformers/82f5af2d5d27d646623936d43fe92501f3a9d24d1c67213134e25617f607eac8.cb2244924ab24d706b02fd7fcedaea4531566537687a539ebb94db511fd122a0\n",
            "loading file https://huggingface.co/facebook/data2vec-text-base/resolve/main/tokenizer_config.json from cache at /root/.cache/huggingface/transformers/05079ae99254961a0f3709b32d9991f6ccbcc6b41dd943da397daa6245e7bb94.d4f171d01387cc5632d978bb00b72ff6a75be0963f09d1ac61d57a2eaa4fbb02\n",
            "loading configuration file https://huggingface.co/facebook/data2vec-text-base/resolve/main/config.json from cache at /root/.cache/huggingface/transformers/61cca1a0a134acf4329c0feaf5a3933c530663a6a1f8c63279b072283169d0e6.8de9deab04286fc364d2e67651793bd710451b487a6fb154bdfc988f499ce3ce\n",
            "Model config Data2VecTextConfig {\n",
            "  \"_name_or_path\": \"facebook/data2vec-text-base\",\n",
            "  \"architectures\": [\n",
            "    \"Data2VecTextModel\"\n",
            "  ],\n",
            "  \"attention_probs_dropout_prob\": 0.1,\n",
            "  \"bos_token_id\": 0,\n",
            "  \"classifier_dropout\": null,\n",
            "  \"eos_token_id\": 2,\n",
            "  \"hidden_act\": \"gelu\",\n",
            "  \"hidden_dropout_prob\": 0.1,\n",
            "  \"hidden_size\": 768,\n",
            "  \"id2label\": {\n",
            "    \"0\": \"LABEL_0\",\n",
            "    \"1\": \"LABEL_1\",\n",
            "    \"2\": \"LABEL_2\",\n",
            "    \"3\": \"LABEL_3\",\n",
            "    \"4\": \"LABEL_4\"\n",
            "  },\n",
            "  \"initializer_range\": 0.02,\n",
            "  \"intermediate_size\": 3072,\n",
            "  \"label2id\": {\n",
            "    \"LABEL_0\": 0,\n",
            "    \"LABEL_1\": 1,\n",
            "    \"LABEL_2\": 2,\n",
            "    \"LABEL_3\": 3,\n",
            "    \"LABEL_4\": 4\n",
            "  },\n",
            "  \"layer_norm_eps\": 1e-05,\n",
            "  \"mask_token_id\": 50264,\n",
            "  \"max_position_embeddings\": 514,\n",
            "  \"model_type\": \"data2vec-text\",\n",
            "  \"num_attention_heads\": 12,\n",
            "  \"num_hidden_layers\": 12,\n",
            "  \"pad_token_id\": 1,\n",
            "  \"position_embedding_type\": \"absolute\",\n",
            "  \"tokenizer_class\": \"RobertaTokenizer\",\n",
            "  \"torch_dtype\": \"float32\",\n",
            "  \"transformers_version\": \"4.19.2\",\n",
            "  \"type_vocab_size\": 1,\n",
            "  \"use_cache\": true,\n",
            "  \"vocab_size\": 50265\n",
            "}\n",
            "\n",
            "loading weights file https://huggingface.co/facebook/data2vec-text-base/resolve/main/pytorch_model.bin from cache at /root/.cache/huggingface/transformers/3dab672cf82aa845f30b1abd22c4ebc2659fd447bc85047ce9756c7c3ec5a365.81c87b3740cf1af714dd3e4f76999ff378e8bb71609aa365db2b4e79b8070d9f\n",
            "Some weights of the model checkpoint at facebook/data2vec-text-base were not used when initializing Data2VecTextForSequenceClassification: ['lm_head.layer_norm.bias', 'lm_head.bias', 'lm_head.layer_norm.weight', 'lm_head.dense.weight', 'lm_head.dense.bias']\n",
            "- This IS expected if you are initializing Data2VecTextForSequenceClassification from the checkpoint of a model trained on another task or with another architecture (e.g. initializing a BertForSequenceClassification model from a BertForPreTraining model).\n",
            "- This IS NOT expected if you are initializing Data2VecTextForSequenceClassification from the checkpoint of a model that you expect to be exactly identical (initializing a BertForSequenceClassification model from a BertForSequenceClassification model).\n",
            "Some weights of Data2VecTextForSequenceClassification were not initialized from the model checkpoint at facebook/data2vec-text-base and are newly initialized: ['classifier.dense.weight', 'classifier.out_proj.weight', 'classifier.out_proj.bias', 'classifier.dense.bias']\n",
            "You should probably TRAIN this model on a down-stream task to be able to use it for predictions and inference.\n",
            "using `logging_steps` to initialize `eval_steps` to 200\n",
            "PyTorch: setting up devices\n",
            "The default value for the training argument `--report_to` will change in v5 (from all installed integrations to none). In v5, you will need to use `--report_to all` to get the same behavior as now. You should start updating your code and make this info disappear :-).\n",
            "***** Running Evaluation *****\n",
            "  Num examples = 735\n",
            "  Batch size = 20\n"
          ]
        },
        {
          "output_type": "display_data",
          "data": {
            "text/plain": [
              "<IPython.core.display.HTML object>"
            ],
            "text/html": [
              "\n",
              "    <div>\n",
              "      \n",
              "      <progress value='74' max='37' style='width:300px; height:20px; vertical-align: middle;'></progress>\n",
              "      [37/37 03:29]\n",
              "    </div>\n",
              "    "
            ]
          },
          "metadata": {}
        },
        {
          "output_type": "stream",
          "name": "stderr",
          "text": [
            "/usr/local/lib/python3.7/dist-packages/transformers/optimization.py:309: FutureWarning: This implementation of AdamW is deprecated and will be removed in a future version. Use the PyTorch implementation torch.optim.AdamW instead, or set `no_deprecation_warning=True` to disable this warning\n",
            "  FutureWarning,\n",
            "***** Running training *****\n",
            "  Num examples = 1490\n",
            "  Num Epochs = 5\n",
            "  Instantaneous batch size per device = 8\n",
            "  Total train batch size (w. parallel, distributed & accumulation) = 8\n",
            "  Gradient Accumulation steps = 1\n",
            "  Total optimization steps = 935\n"
          ]
        },
        {
          "output_type": "display_data",
          "data": {
            "text/plain": [
              "<IPython.core.display.HTML object>"
            ],
            "text/html": [
              "\n",
              "    <div>\n",
              "      \n",
              "      <progress value='935' max='935' style='width:300px; height:20px; vertical-align: middle;'></progress>\n",
              "      [935/935 14:37, Epoch 5/5]\n",
              "    </div>\n",
              "    <table border=\"1\" class=\"dataframe\">\n",
              "  <thead>\n",
              " <tr style=\"text-align: left;\">\n",
              "      <th>Step</th>\n",
              "      <th>Training Loss</th>\n",
              "      <th>Validation Loss</th>\n",
              "      <th>F1</th>\n",
              "    </tr>\n",
              "  </thead>\n",
              "  <tbody>\n",
              "    <tr>\n",
              "      <td>200</td>\n",
              "      <td>1.205000</td>\n",
              "      <td>0.306662</td>\n",
              "      <td>0.970068</td>\n",
              "    </tr>\n",
              "    <tr>\n",
              "      <td>400</td>\n",
              "      <td>0.187300</td>\n",
              "      <td>0.165483</td>\n",
              "      <td>0.965986</td>\n",
              "    </tr>\n",
              "    <tr>\n",
              "      <td>600</td>\n",
              "      <td>0.196400</td>\n",
              "      <td>0.126165</td>\n",
              "      <td>0.968707</td>\n",
              "    </tr>\n",
              "    <tr>\n",
              "      <td>800</td>\n",
              "      <td>0.080100</td>\n",
              "      <td>0.165799</td>\n",
              "      <td>0.968707</td>\n",
              "    </tr>\n",
              "  </tbody>\n",
              "</table><p>"
            ]
          },
          "metadata": {}
        },
        {
          "output_type": "stream",
          "name": "stderr",
          "text": [
            "***** Running Evaluation *****\n",
            "  Num examples = 735\n",
            "  Batch size = 20\n",
            "Saving model checkpoint to ./results/checkpoint-200\n",
            "Configuration saved in ./results/checkpoint-200/config.json\n",
            "Model weights saved in ./results/checkpoint-200/pytorch_model.bin\n",
            "***** Running Evaluation *****\n",
            "  Num examples = 735\n",
            "  Batch size = 20\n",
            "Saving model checkpoint to ./results/checkpoint-400\n",
            "Configuration saved in ./results/checkpoint-400/config.json\n",
            "Model weights saved in ./results/checkpoint-400/pytorch_model.bin\n",
            "***** Running Evaluation *****\n",
            "  Num examples = 735\n",
            "  Batch size = 20\n",
            "Saving model checkpoint to ./results/checkpoint-600\n",
            "Configuration saved in ./results/checkpoint-600/config.json\n",
            "Model weights saved in ./results/checkpoint-600/pytorch_model.bin\n",
            "***** Running Evaluation *****\n",
            "  Num examples = 735\n",
            "  Batch size = 20\n",
            "Saving model checkpoint to ./results/checkpoint-800\n",
            "Configuration saved in ./results/checkpoint-800/config.json\n",
            "Model weights saved in ./results/checkpoint-800/pytorch_model.bin\n",
            "\n",
            "\n",
            "Training completed. Do not forget to share your model on huggingface.co/models =)\n",
            "\n",
            "\n",
            "Loading best model from ./results/checkpoint-200 (score: 0.9700680272108844).\n"
          ]
        },
        {
          "output_type": "stream",
          "name": "stdout",
          "text": [
            "peak memory: 5869.55 MiB, increment: 316.85 MiB\n",
            "CPU times: user 13min 22s, sys: 1min 40s, total: 15min 2s\n",
            "Wall time: 15min 11s\n"
          ]
        }
      ]
    },
    {
      "cell_type": "code",
      "source": [
        "toc=time.time()\n",
        "print(datetime.timedelta(seconds = toc-tic))"
      ],
      "metadata": {
        "colab": {
          "base_uri": "https://localhost:8080/"
        },
        "id": "zDAABp1Ss0Xy",
        "outputId": "f9e935de-f2a2-41cc-c73e-afa16055cb70"
      },
      "execution_count": 9,
      "outputs": [
        {
          "output_type": "stream",
          "name": "stdout",
          "text": [
            "0:30:37.495398\n"
          ]
        }
      ]
    }
  ]
}