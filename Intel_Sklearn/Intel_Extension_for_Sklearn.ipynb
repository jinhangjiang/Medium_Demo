{
  "nbformat": 4,
  "nbformat_minor": 0,
  "metadata": {
    "colab": {
      "name": "Intel_Extension_for_Sklearn.ipynb",
      "provenance": [],
      "machine_shape": "hm"
    },
    "kernelspec": {
      "name": "python3",
      "display_name": "Python 3"
    },
    "language_info": {
      "name": "python"
    }
  },
  "cells": [
    {
      "cell_type": "markdown",
      "source": [
        "# Run Your Sklearn Code 100X Faster\n",
        "- Medium Blog Link:\n",
        "- Author: Jinhang Jiang\n",
        "- Reference: https://intel.github.io/scikit-learn-intelex/"
      ],
      "metadata": {
        "id": "iW7K5RK-uTih"
      }
    },
    {
      "cell_type": "markdown",
      "source": [
        "### Install Package"
      ],
      "metadata": {
        "id": "-EQRePX0vPow"
      }
    },
    {
      "cell_type": "code",
      "execution_count": 1,
      "metadata": {
        "colab": {
          "base_uri": "https://localhost:8080/"
        },
        "id": "IpdZIxxbtrI5",
        "outputId": "93d85958-d328-486a-d273-f1a2291dac88"
      },
      "outputs": [
        {
          "output_type": "stream",
          "name": "stdout",
          "text": [
            "Requirement already satisfied: scikit-learn-intelex in /usr/local/lib/python3.7/dist-packages (2021.5.3)\n",
            "Requirement already satisfied: scikit-learn>=0.22 in /usr/local/lib/python3.7/dist-packages (from scikit-learn-intelex) (1.0.2)\n",
            "Requirement already satisfied: daal4py==2021.5.3 in /usr/local/lib/python3.7/dist-packages (from scikit-learn-intelex) (2021.5.3)\n",
            "Requirement already satisfied: numpy>=1.15 in /usr/local/lib/python3.7/dist-packages (from daal4py==2021.5.3->scikit-learn-intelex) (1.21.6)\n",
            "Requirement already satisfied: daal==2021.5.3 in /usr/local/lib/python3.7/dist-packages (from daal4py==2021.5.3->scikit-learn-intelex) (2021.5.3)\n",
            "Requirement already satisfied: tbb==2021.* in /usr/local/lib/python3.7/dist-packages (from daal==2021.5.3->daal4py==2021.5.3->scikit-learn-intelex) (2021.6.0)\n",
            "Requirement already satisfied: threadpoolctl>=2.0.0 in /usr/local/lib/python3.7/dist-packages (from scikit-learn>=0.22->scikit-learn-intelex) (3.1.0)\n",
            "Requirement already satisfied: scipy>=1.1.0 in /usr/local/lib/python3.7/dist-packages (from scikit-learn>=0.22->scikit-learn-intelex) (1.4.1)\n",
            "Requirement already satisfied: joblib>=0.11 in /usr/local/lib/python3.7/dist-packages (from scikit-learn>=0.22->scikit-learn-intelex) (1.1.0)\n"
          ]
        }
      ],
      "source": [
        "!pip install scikit-learn-intelex"
      ]
    },
    {
      "cell_type": "markdown",
      "source": [
        "### Import Necessary Packages"
      ],
      "metadata": {
        "id": "DooYWzNYvutE"
      }
    },
    {
      "cell_type": "code",
      "source": [
        "from sklearnex import patch_sklearn, unpatch_sklearn\n",
        "from sklearn.datasets import make_classification, make_regression, make_moons\n",
        "from sklearn.metrics import accuracy_score\n",
        "import pandas as pd\n",
        "import seaborn as sns\n",
        "import matplotlib.pyplot as plt\n",
        "import time\n",
        "from xgboost import XGBClassifier"
      ],
      "metadata": {
        "id": "ij2abM4xvuFL"
      },
      "execution_count": 12,
      "outputs": []
    },
    {
      "cell_type": "markdown",
      "source": [
        "### Random Forest - Regressor"
      ],
      "metadata": {
        "id": "fV7wflluvnJi"
      }
    },
    {
      "cell_type": "code",
      "source": [
        "patch_sklearn()\n",
        "from sklearn.ensemble import RandomForestRegressor\n",
        "\n",
        "score_1 = []\n",
        "time_lapse_1 = []\n",
        "\n",
        "for i in range(1,6):\n",
        "  print(i)\n",
        "  X, y = make_regression(n_samples = 10**i, n_features= 30, n_informative=25, random_state=42)\n",
        "  tic = time.time()\n",
        "  model = RandomForestRegressor().fit(X, y)\n",
        "  toc = time.time()\n",
        "  score_1.append(model.score(X,y))\n",
        "  time_lapse_1.append(round(1000*(toc - tic),4))"
      ],
      "metadata": {
        "colab": {
          "base_uri": "https://localhost:8080/"
        },
        "id": "wuBKoJWhyejZ",
        "outputId": "1d7b89f1-f953-46f8-8416-3d6e51995dd0"
      },
      "execution_count": 13,
      "outputs": [
        {
          "output_type": "stream",
          "name": "stderr",
          "text": [
            "Intel(R) Extension for Scikit-learn* enabled (https://github.com/intel/scikit-learn-intelex)\n"
          ]
        },
        {
          "output_type": "stream",
          "name": "stdout",
          "text": [
            "1\n",
            "2\n",
            "3\n",
            "4\n",
            "5\n"
          ]
        }
      ]
    },
    {
      "cell_type": "code",
      "source": [
        "unpatch_sklearn()\n",
        "from sklearn.ensemble import RandomForestRegressor\n",
        "\n",
        "score_2 = []\n",
        "time_lapse_2 = []\n",
        "\n",
        "for i in range(1,6):\n",
        "  print(i)\n",
        "  X, y = make_regression(n_samples = 10**i, n_features= 30, n_informative=25, random_state=42)\n",
        "  tic = time.time()\n",
        "  model = RandomForestRegressor(random_state=42).fit(X, y)\n",
        "  toc = time.time()\n",
        "  score_2.append(model.score(X,y))\n",
        "  time_lapse_2.append(round(1000*(toc - tic),4))"
      ],
      "metadata": {
        "colab": {
          "base_uri": "https://localhost:8080/"
        },
        "id": "Qk6PxAA83xSG",
        "outputId": "e42b0355-0709-4c7e-e0ed-4622c1f38d3f"
      },
      "execution_count": 14,
      "outputs": [
        {
          "output_type": "stream",
          "name": "stdout",
          "text": [
            "1\n",
            "2\n",
            "3\n",
            "4\n",
            "5\n"
          ]
        }
      ]
    },
    {
      "cell_type": "code",
      "source": [
        "results = pd.DataFrame({'Size':[10**i for i in range(1,6)],\n",
        "              'Boost_Score':score_1, \n",
        "              'Boost_Time (ms)':time_lapse_1,\n",
        "              'Normal_Score':score_2, \n",
        "              'Normal_Time (ms)':time_lapse_2,\n",
        "              'Speed_X':[round(a/b,4) for a,b in zip(time_lapse_2,time_lapse_1)]})\n",
        "\n",
        "display(results)"
      ],
      "metadata": {
        "id": "Tchoc6Da5JV1",
        "colab": {
          "base_uri": "https://localhost:8080/",
          "height": 206
        },
        "outputId": "51977f21-3e14-40b4-957c-899ebf0a9e49"
      },
      "execution_count": 15,
      "outputs": [
        {
          "output_type": "display_data",
          "data": {
            "text/plain": [
              "     Size  Boost_Score  Boost_Time (ms)  Normal_Score  Normal_Time (ms)  \\\n",
              "0      10     0.815919          38.5144      0.767732          112.2224   \n",
              "1     100     0.906126          59.1242      0.902497          398.0510   \n",
              "2    1000     0.924621         428.0956      0.939306         1641.2847   \n",
              "3   10000     0.960480        3991.8075      0.961240        21574.1253   \n",
              "4  100000     0.970500       49384.6674      0.971543       323309.6039   \n",
              "\n",
              "   Speed_X  \n",
              "0   2.9138  \n",
              "1   6.7325  \n",
              "2   3.8339  \n",
              "3   5.4046  \n",
              "4   6.5468  "
            ],
            "text/html": [
              "\n",
              "  <div id=\"df-2997cb0b-4dc6-4050-9efe-9006749d3aa3\">\n",
              "    <div class=\"colab-df-container\">\n",
              "      <div>\n",
              "<style scoped>\n",
              "    .dataframe tbody tr th:only-of-type {\n",
              "        vertical-align: middle;\n",
              "    }\n",
              "\n",
              "    .dataframe tbody tr th {\n",
              "        vertical-align: top;\n",
              "    }\n",
              "\n",
              "    .dataframe thead th {\n",
              "        text-align: right;\n",
              "    }\n",
              "</style>\n",
              "<table border=\"1\" class=\"dataframe\">\n",
              "  <thead>\n",
              "    <tr style=\"text-align: right;\">\n",
              "      <th></th>\n",
              "      <th>Size</th>\n",
              "      <th>Boost_Score</th>\n",
              "      <th>Boost_Time (ms)</th>\n",
              "      <th>Normal_Score</th>\n",
              "      <th>Normal_Time (ms)</th>\n",
              "      <th>Speed_X</th>\n",
              "    </tr>\n",
              "  </thead>\n",
              "  <tbody>\n",
              "    <tr>\n",
              "      <th>0</th>\n",
              "      <td>10</td>\n",
              "      <td>0.815919</td>\n",
              "      <td>38.5144</td>\n",
              "      <td>0.767732</td>\n",
              "      <td>112.2224</td>\n",
              "      <td>2.9138</td>\n",
              "    </tr>\n",
              "    <tr>\n",
              "      <th>1</th>\n",
              "      <td>100</td>\n",
              "      <td>0.906126</td>\n",
              "      <td>59.1242</td>\n",
              "      <td>0.902497</td>\n",
              "      <td>398.0510</td>\n",
              "      <td>6.7325</td>\n",
              "    </tr>\n",
              "    <tr>\n",
              "      <th>2</th>\n",
              "      <td>1000</td>\n",
              "      <td>0.924621</td>\n",
              "      <td>428.0956</td>\n",
              "      <td>0.939306</td>\n",
              "      <td>1641.2847</td>\n",
              "      <td>3.8339</td>\n",
              "    </tr>\n",
              "    <tr>\n",
              "      <th>3</th>\n",
              "      <td>10000</td>\n",
              "      <td>0.960480</td>\n",
              "      <td>3991.8075</td>\n",
              "      <td>0.961240</td>\n",
              "      <td>21574.1253</td>\n",
              "      <td>5.4046</td>\n",
              "    </tr>\n",
              "    <tr>\n",
              "      <th>4</th>\n",
              "      <td>100000</td>\n",
              "      <td>0.970500</td>\n",
              "      <td>49384.6674</td>\n",
              "      <td>0.971543</td>\n",
              "      <td>323309.6039</td>\n",
              "      <td>6.5468</td>\n",
              "    </tr>\n",
              "  </tbody>\n",
              "</table>\n",
              "</div>\n",
              "      <button class=\"colab-df-convert\" onclick=\"convertToInteractive('df-2997cb0b-4dc6-4050-9efe-9006749d3aa3')\"\n",
              "              title=\"Convert this dataframe to an interactive table.\"\n",
              "              style=\"display:none;\">\n",
              "        \n",
              "  <svg xmlns=\"http://www.w3.org/2000/svg\" height=\"24px\"viewBox=\"0 0 24 24\"\n",
              "       width=\"24px\">\n",
              "    <path d=\"M0 0h24v24H0V0z\" fill=\"none\"/>\n",
              "    <path d=\"M18.56 5.44l.94 2.06.94-2.06 2.06-.94-2.06-.94-.94-2.06-.94 2.06-2.06.94zm-11 1L8.5 8.5l.94-2.06 2.06-.94-2.06-.94L8.5 2.5l-.94 2.06-2.06.94zm10 10l.94 2.06.94-2.06 2.06-.94-2.06-.94-.94-2.06-.94 2.06-2.06.94z\"/><path d=\"M17.41 7.96l-1.37-1.37c-.4-.4-.92-.59-1.43-.59-.52 0-1.04.2-1.43.59L10.3 9.45l-7.72 7.72c-.78.78-.78 2.05 0 2.83L4 21.41c.39.39.9.59 1.41.59.51 0 1.02-.2 1.41-.59l7.78-7.78 2.81-2.81c.8-.78.8-2.07 0-2.86zM5.41 20L4 18.59l7.72-7.72 1.47 1.35L5.41 20z\"/>\n",
              "  </svg>\n",
              "      </button>\n",
              "      \n",
              "  <style>\n",
              "    .colab-df-container {\n",
              "      display:flex;\n",
              "      flex-wrap:wrap;\n",
              "      gap: 12px;\n",
              "    }\n",
              "\n",
              "    .colab-df-convert {\n",
              "      background-color: #E8F0FE;\n",
              "      border: none;\n",
              "      border-radius: 50%;\n",
              "      cursor: pointer;\n",
              "      display: none;\n",
              "      fill: #1967D2;\n",
              "      height: 32px;\n",
              "      padding: 0 0 0 0;\n",
              "      width: 32px;\n",
              "    }\n",
              "\n",
              "    .colab-df-convert:hover {\n",
              "      background-color: #E2EBFA;\n",
              "      box-shadow: 0px 1px 2px rgba(60, 64, 67, 0.3), 0px 1px 3px 1px rgba(60, 64, 67, 0.15);\n",
              "      fill: #174EA6;\n",
              "    }\n",
              "\n",
              "    [theme=dark] .colab-df-convert {\n",
              "      background-color: #3B4455;\n",
              "      fill: #D2E3FC;\n",
              "    }\n",
              "\n",
              "    [theme=dark] .colab-df-convert:hover {\n",
              "      background-color: #434B5C;\n",
              "      box-shadow: 0px 1px 3px 1px rgba(0, 0, 0, 0.15);\n",
              "      filter: drop-shadow(0px 1px 2px rgba(0, 0, 0, 0.3));\n",
              "      fill: #FFFFFF;\n",
              "    }\n",
              "  </style>\n",
              "\n",
              "      <script>\n",
              "        const buttonEl =\n",
              "          document.querySelector('#df-2997cb0b-4dc6-4050-9efe-9006749d3aa3 button.colab-df-convert');\n",
              "        buttonEl.style.display =\n",
              "          google.colab.kernel.accessAllowed ? 'block' : 'none';\n",
              "\n",
              "        async function convertToInteractive(key) {\n",
              "          const element = document.querySelector('#df-2997cb0b-4dc6-4050-9efe-9006749d3aa3');\n",
              "          const dataTable =\n",
              "            await google.colab.kernel.invokeFunction('convertToInteractive',\n",
              "                                                     [key], {});\n",
              "          if (!dataTable) return;\n",
              "\n",
              "          const docLinkHtml = 'Like what you see? Visit the ' +\n",
              "            '<a target=\"_blank\" href=https://colab.research.google.com/notebooks/data_table.ipynb>data table notebook</a>'\n",
              "            + ' to learn more about interactive tables.';\n",
              "          element.innerHTML = '';\n",
              "          dataTable['output_type'] = 'display_data';\n",
              "          await google.colab.output.renderOutput(dataTable, element);\n",
              "          const docLink = document.createElement('div');\n",
              "          docLink.innerHTML = docLinkHtml;\n",
              "          element.appendChild(docLink);\n",
              "        }\n",
              "      </script>\n",
              "    </div>\n",
              "  </div>\n",
              "  "
            ]
          },
          "metadata": {}
        }
      ]
    },
    {
      "cell_type": "code",
      "source": [
        "sns.set_style(\"darkgrid\")\n",
        "fig, axes = plt.subplots(1, 2, figsize=(20, 6))\n",
        " \n",
        "fig.suptitle('SklearnEX vs. Normal Sklearn for RandomForestRegressor')\n",
        "\n",
        "\n",
        "sns.lineplot(ax=axes[0], data = results, x='Size', y='Boost_Time (ms)')\n",
        "sns.lineplot(ax=axes[0], data = results, x='Size', y='Normal_Time (ms)')\n",
        "sns.lineplot(ax=axes[1], data = results, x='Size', y='Speed_X', color='green')\n",
        "\n",
        " \n",
        "axes[0].set_title('Time Used in Training')\n",
        "axes[1].set_title('Speed Ratio')\n",
        "axes[0].legend(['Boost_Time (ms)', 'Normal_Time (ms)'])\n",
        "axes[0].legend(['Speed_X'])"
      ],
      "metadata": {
        "id": "u8PYdS3QtUKy",
        "colab": {
          "base_uri": "https://localhost:8080/",
          "height": 449
        },
        "outputId": "1828880c-f84f-4858-902a-f097947d3b62"
      },
      "execution_count": 16,
      "outputs": [
        {
          "output_type": "execute_result",
          "data": {
            "text/plain": [
              "<matplotlib.legend.Legend at 0x7fdd89e9bf90>"
            ]
          },
          "metadata": {},
          "execution_count": 16
        },
        {
          "output_type": "display_data",
          "data": {
            "text/plain": [
              "<Figure size 1440x432 with 2 Axes>"
            ],
            "image/png": "[encoded data removed]"
          },
          "metadata": {}
        }
      ]
    },
    {
      "cell_type": "markdown",
      "source": [
        "### SVC - Classification"
      ],
      "metadata": {
        "id": "WGVxnR2pIHKf"
      }
    },
    {
      "cell_type": "code",
      "source": [
        "patch_sklearn()\n",
        "from sklearn.svm import SVC\n",
        "\n",
        "score_1 = []\n",
        "time_lapse_1 = []\n",
        "\n",
        "for i in range(1,6):\n",
        "  print(i)\n",
        "  X, y = make_classification(n_samples = 10**i, n_features= 30, n_informative=25, random_state=42)\n",
        "  tic = time.time()\n",
        "  model = SVC(gamma='auto').fit(X, y)\n",
        "  toc = time.time()\n",
        "  score_1.append(model.score(X,y))\n",
        "  time_lapse_1.append(round(1000*(toc - tic),4))"
      ],
      "metadata": {
        "id": "_I7kyKmkEGpJ",
        "colab": {
          "base_uri": "https://localhost:8080/"
        },
        "outputId": "e141d8b6-cfc3-415f-9ad4-f5ce90ced160"
      },
      "execution_count": 7,
      "outputs": [
        {
          "output_type": "stream",
          "name": "stderr",
          "text": [
            "Intel(R) Extension for Scikit-learn* enabled (https://github.com/intel/scikit-learn-intelex)\n"
          ]
        },
        {
          "output_type": "stream",
          "name": "stdout",
          "text": [
            "1\n",
            "2\n",
            "3\n",
            "4\n",
            "5\n"
          ]
        }
      ]
    },
    {
      "cell_type": "code",
      "source": [
        "unpatch_sklearn()\n",
        "from sklearn.svm import SVC\n",
        "\n",
        "score_2 = []\n",
        "time_lapse_2 = []\n",
        "\n",
        "for i in range(1,6):\n",
        "  print(i)\n",
        "  X, y = make_classification(n_samples = 10**i, n_features= 30, n_informative=25, random_state=42)\n",
        "  tic = time.time()\n",
        "  model = SVC(gamma='auto').fit(X, y)\n",
        "  toc = time.time()\n",
        "  score_2.append(model.score(X,y))\n",
        "  time_lapse_2.append(round(1000*(toc - tic),4))"
      ],
      "metadata": {
        "id": "PkZK9O9JLmdD",
        "colab": {
          "base_uri": "https://localhost:8080/"
        },
        "outputId": "e44a7e15-3ed9-4be4-9f66-228d7bbbdd35"
      },
      "execution_count": 8,
      "outputs": [
        {
          "output_type": "stream",
          "name": "stdout",
          "text": [
            "1\n",
            "2\n",
            "3\n",
            "4\n",
            "5\n"
          ]
        }
      ]
    },
    {
      "cell_type": "code",
      "source": [
        "results = pd.DataFrame({'Size':[10**i for i in range(1,6)],\n",
        "              'Boost_Score':score_1, \n",
        "              'Boost_Time (ms)':time_lapse_1,\n",
        "              'Normal_Score':score_2, \n",
        "              'Normal_Time (ms)':time_lapse_2,\n",
        "              'Speed_X':[round(a/b,4) for a,b in zip(time_lapse_2,time_lapse_1)]})\n",
        "display(results)"
      ],
      "metadata": {
        "id": "tNsLfzI2Lrnq",
        "colab": {
          "base_uri": "https://localhost:8080/",
          "height": 206
        },
        "outputId": "7803cf44-e6c3-4c9c-b842-854ecbe8e356"
      },
      "execution_count": 11,
      "outputs": [
        {
          "output_type": "display_data",
          "data": {
            "text/plain": [
              "     Size  Boost_Score  Boost_Time (ms)  Normal_Score  Normal_Time (ms)  \\\n",
              "0      10      1.00000          93.9717       1.00000      4.448700e+00   \n",
              "1     100      1.00000           6.4032       1.00000      1.467700e+00   \n",
              "2    1000      1.00000          42.9831       1.00000      8.252600e+01   \n",
              "3   10000      1.00000        2946.8279       1.00000      1.886650e+04   \n",
              "4  100000      0.99968      153129.0050       0.99968      4.961833e+06   \n",
              "\n",
              "   Speed_X  \n",
              "0   0.0473  \n",
              "1   0.2292  \n",
              "2   1.9200  \n",
              "3   6.4023  \n",
              "4  32.4030  "
            ],
            "text/html": [
              "\n",
              "  <div id=\"df-f585c91b-b082-4d11-8187-f82626bd0f0a\">\n",
              "    <div class=\"colab-df-container\">\n",
              "      <div>\n",
              "<style scoped>\n",
              "    .dataframe tbody tr th:only-of-type {\n",
              "        vertical-align: middle;\n",
              "    }\n",
              "\n",
              "    .dataframe tbody tr th {\n",
              "        vertical-align: top;\n",
              "    }\n",
              "\n",
              "    .dataframe thead th {\n",
              "        text-align: right;\n",
              "    }\n",
              "</style>\n",
              "<table border=\"1\" class=\"dataframe\">\n",
              "  <thead>\n",
              "    <tr style=\"text-align: right;\">\n",
              "      <th></th>\n",
              "      <th>Size</th>\n",
              "      <th>Boost_Score</th>\n",
              "      <th>Boost_Time (ms)</th>\n",
              "      <th>Normal_Score</th>\n",
              "      <th>Normal_Time (ms)</th>\n",
              "      <th>Speed_X</th>\n",
              "    </tr>\n",
              "  </thead>\n",
              "  <tbody>\n",
              "    <tr>\n",
              "      <th>0</th>\n",
              "      <td>10</td>\n",
              "      <td>1.00000</td>\n",
              "      <td>93.9717</td>\n",
              "      <td>1.00000</td>\n",
              "      <td>4.448700e+00</td>\n",
              "      <td>0.0473</td>\n",
              "    </tr>\n",
              "    <tr>\n",
              "      <th>1</th>\n",
              "      <td>100</td>\n",
              "      <td>1.00000</td>\n",
              "      <td>6.4032</td>\n",
              "      <td>1.00000</td>\n",
              "      <td>1.467700e+00</td>\n",
              "      <td>0.2292</td>\n",
              "    </tr>\n",
              "    <tr>\n",
              "      <th>2</th>\n",
              "      <td>1000</td>\n",
              "      <td>1.00000</td>\n",
              "      <td>42.9831</td>\n",
              "      <td>1.00000</td>\n",
              "      <td>8.252600e+01</td>\n",
              "      <td>1.9200</td>\n",
              "    </tr>\n",
              "    <tr>\n",
              "      <th>3</th>\n",
              "      <td>10000</td>\n",
              "      <td>1.00000</td>\n",
              "      <td>2946.8279</td>\n",
              "      <td>1.00000</td>\n",
              "      <td>1.886650e+04</td>\n",
              "      <td>6.4023</td>\n",
              "    </tr>\n",
              "    <tr>\n",
              "      <th>4</th>\n",
              "      <td>100000</td>\n",
              "      <td>0.99968</td>\n",
              "      <td>153129.0050</td>\n",
              "      <td>0.99968</td>\n",
              "      <td>4.961833e+06</td>\n",
              "      <td>32.4030</td>\n",
              "    </tr>\n",
              "  </tbody>\n",
              "</table>\n",
              "</div>\n",
              "      <button class=\"colab-df-convert\" onclick=\"convertToInteractive('df-f585c91b-b082-4d11-8187-f82626bd0f0a')\"\n",
              "              title=\"Convert this dataframe to an interactive table.\"\n",
              "              style=\"display:none;\">\n",
              "        \n",
              "  <svg xmlns=\"http://www.w3.org/2000/svg\" height=\"24px\"viewBox=\"0 0 24 24\"\n",
              "       width=\"24px\">\n",
              "    <path d=\"M0 0h24v24H0V0z\" fill=\"none\"/>\n",
              "    <path d=\"M18.56 5.44l.94 2.06.94-2.06 2.06-.94-2.06-.94-.94-2.06-.94 2.06-2.06.94zm-11 1L8.5 8.5l.94-2.06 2.06-.94-2.06-.94L8.5 2.5l-.94 2.06-2.06.94zm10 10l.94 2.06.94-2.06 2.06-.94-2.06-.94-.94-2.06-.94 2.06-2.06.94z\"/><path d=\"M17.41 7.96l-1.37-1.37c-.4-.4-.92-.59-1.43-.59-.52 0-1.04.2-1.43.59L10.3 9.45l-7.72 7.72c-.78.78-.78 2.05 0 2.83L4 21.41c.39.39.9.59 1.41.59.51 0 1.02-.2 1.41-.59l7.78-7.78 2.81-2.81c.8-.78.8-2.07 0-2.86zM5.41 20L4 18.59l7.72-7.72 1.47 1.35L5.41 20z\"/>\n",
              "  </svg>\n",
              "      </button>\n",
              "      \n",
              "  <style>\n",
              "    .colab-df-container {\n",
              "      display:flex;\n",
              "      flex-wrap:wrap;\n",
              "      gap: 12px;\n",
              "    }\n",
              "\n",
              "    .colab-df-convert {\n",
              "      background-color: #E8F0FE;\n",
              "      border: none;\n",
              "      border-radius: 50%;\n",
              "      cursor: pointer;\n",
              "      display: none;\n",
              "      fill: #1967D2;\n",
              "      height: 32px;\n",
              "      padding: 0 0 0 0;\n",
              "      width: 32px;\n",
              "    }\n",
              "\n",
              "    .colab-df-convert:hover {\n",
              "      background-color: #E2EBFA;\n",
              "      box-shadow: 0px 1px 2px rgba(60, 64, 67, 0.3), 0px 1px 3px 1px rgba(60, 64, 67, 0.15);\n",
              "      fill: #174EA6;\n",
              "    }\n",
              "\n",
              "    [theme=dark] .colab-df-convert {\n",
              "      background-color: #3B4455;\n",
              "      fill: #D2E3FC;\n",
              "    }\n",
              "\n",
              "    [theme=dark] .colab-df-convert:hover {\n",
              "      background-color: #434B5C;\n",
              "      box-shadow: 0px 1px 3px 1px rgba(0, 0, 0, 0.15);\n",
              "      filter: drop-shadow(0px 1px 2px rgba(0, 0, 0, 0.3));\n",
              "      fill: #FFFFFF;\n",
              "    }\n",
              "  </style>\n",
              "\n",
              "      <script>\n",
              "        const buttonEl =\n",
              "          document.querySelector('#df-f585c91b-b082-4d11-8187-f82626bd0f0a button.colab-df-convert');\n",
              "        buttonEl.style.display =\n",
              "          google.colab.kernel.accessAllowed ? 'block' : 'none';\n",
              "\n",
              "        async function convertToInteractive(key) {\n",
              "          const element = document.querySelector('#df-f585c91b-b082-4d11-8187-f82626bd0f0a');\n",
              "          const dataTable =\n",
              "            await google.colab.kernel.invokeFunction('convertToInteractive',\n",
              "                                                     [key], {});\n",
              "          if (!dataTable) return;\n",
              "\n",
              "          const docLinkHtml = 'Like what you see? Visit the ' +\n",
              "            '<a target=\"_blank\" href=https://colab.research.google.com/notebooks/data_table.ipynb>data table notebook</a>'\n",
              "            + ' to learn more about interactive tables.';\n",
              "          element.innerHTML = '';\n",
              "          dataTable['output_type'] = 'display_data';\n",
              "          await google.colab.output.renderOutput(dataTable, element);\n",
              "          const docLink = document.createElement('div');\n",
              "          docLink.innerHTML = docLinkHtml;\n",
              "          element.appendChild(docLink);\n",
              "        }\n",
              "      </script>\n",
              "    </div>\n",
              "  </div>\n",
              "  "
            ]
          },
          "metadata": {}
        }
      ]
    },
    {
      "cell_type": "code",
      "source": [
        "sns.set_style(\"darkgrid\")\n",
        "fig, axes = plt.subplots(1, 2, figsize=(20, 6))\n",
        " \n",
        "fig.suptitle('SklearnEX vs. Normal Sklearn for SVC')\n",
        "\n",
        "\n",
        "sns.lineplot(ax=axes[0], data = results, x='Size', y='Boost_Time (ms)')\n",
        "sns.lineplot(ax=axes[0], data = results, x='Size', y='Normal_Time (ms)')\n",
        "sns.lineplot(ax=axes[1], data = results, x='Size', y='Speed_X', color='green')\n",
        "\n",
        " \n",
        "axes[0].set_title('Time Used in Training')\n",
        "axes[1].set_title('Speed Ratio')\n",
        "axes[0].legend(['Boost_Time (ms)', 'Normal_Time (ms)'])\n",
        "axes[0].legend(['Speed_X'])"
      ],
      "metadata": {
        "id": "L9IafDFVnSg6",
        "colab": {
          "base_uri": "https://localhost:8080/",
          "height": 449
        },
        "outputId": "e63299b6-1fdf-41a1-a6ca-9ed2feb4a048"
      },
      "execution_count": 12,
      "outputs": [
        {
          "output_type": "execute_result",
          "data": {
            "text/plain": [
              "<matplotlib.legend.Legend at 0x7fdd89f70290>"
            ]
          },
          "metadata": {},
          "execution_count": 12
        },
        {
          "output_type": "display_data",
          "data": {
            "text/plain": [
              "<Figure size 1440x432 with 2 Axes>"
            ],
            "image/png": "[encoded data removed]"
          },
          "metadata": {}
        }
      ]
    },
    {
      "cell_type": "markdown",
      "source": [
        "### DBSCAN"
      ],
      "metadata": {
        "id": "zgDsCJ7yFNkb"
      }
    },
    {
      "cell_type": "code",
      "source": [
        "score_1 = []\n",
        "time_lapse_1 = []\n",
        "score_2 = []\n",
        "time_lapse_2 = []\n",
        "\n",
        "for i in [100, 1000, 10000, 75000]:\n",
        "  print(i)\n",
        "  patch_sklearn()\n",
        "  from sklearn.cluster import DBSCAN\n",
        "  X, y = make_moons(n_samples = i, noise=0.3, random_state=42)\n",
        "  tic = time.time()\n",
        "  model = DBSCAN(eps=1).fit_predict(X)\n",
        "  toc = time.time()\n",
        "  score_1.append(accuracy_score(y,model))\n",
        "  time_lapse_1.append(round(1000*(toc - tic),4))\n",
        "\n",
        "  unpatch_sklearn()\n",
        "  from sklearn.cluster import DBSCAN\n",
        "  tic = time.time()\n",
        "  model = DBSCAN(eps=1).fit_predict(X)\n",
        "  toc = time.time()\n",
        "  score_2.append(accuracy_score(y,model))\n",
        "  time_lapse_2.append(round(1000*(toc - tic),4))"
      ],
      "metadata": {
        "colab": {
          "base_uri": "https://localhost:8080/"
        },
        "id": "UwDFyPx_DFqf",
        "outputId": "c64e1cdd-f9bf-4e63-96a7-071e75123617"
      },
      "execution_count": 2,
      "outputs": [
        {
          "output_type": "stream",
          "name": "stdout",
          "text": [
            "100\n",
            "1000\n",
            "10000\n"
          ]
        },
        {
          "output_type": "stream",
          "name": "stderr",
          "text": [
            "Intel(R) Extension for Scikit-learn* enabled (https://github.com/intel/scikit-learn-intelex)\n",
            "Intel(R) Extension for Scikit-learn* enabled (https://github.com/intel/scikit-learn-intelex)\n",
            "Intel(R) Extension for Scikit-learn* enabled (https://github.com/intel/scikit-learn-intelex)\n"
          ]
        },
        {
          "output_type": "stream",
          "name": "stdout",
          "text": [
            "75000\n"
          ]
        },
        {
          "output_type": "stream",
          "name": "stderr",
          "text": [
            "Intel(R) Extension for Scikit-learn* enabled (https://github.com/intel/scikit-learn-intelex)\n"
          ]
        }
      ]
    },
    {
      "cell_type": "code",
      "source": [
        "results = pd.DataFrame({'Size':[100, 1000, 10000, 75000],\n",
        "              'Boost_Score':score_1, \n",
        "              'Boost_Time (ms)':time_lapse_1,\n",
        "              'Normal_Score':score_2, \n",
        "              'Normal_Time (ms)':time_lapse_2,\n",
        "              'Speed_X':[round(a/b,4) for a,b in zip(time_lapse_2,time_lapse_1)]})\n",
        "display(results)"
      ],
      "metadata": {
        "colab": {
          "base_uri": "https://localhost:8080/",
          "height": 206
        },
        "id": "Bz3OnAyYpRYD",
        "outputId": "cf32248a-e07d-43b7-a653-15c675d171fa"
      },
      "execution_count": 14,
      "outputs": [
        {
          "output_type": "display_data",
          "data": {
            "text/plain": [
              "    Size  Boost_Score  Boost_Time (ms)  Normal_Score  Normal_Time (ms)  \\\n",
              "0     10          0.4           2.5194           0.4            1.0283   \n",
              "1    100          0.5           1.7815           0.5            1.9610   \n",
              "2   1000          0.5          52.0098           0.5           16.7069   \n",
              "3  10000          0.5         574.8358           0.5          919.7056   \n",
              "4  70000          0.5       30790.2868           0.5        37789.9411   \n",
              "\n",
              "   Speed_X  \n",
              "0   0.4082  \n",
              "1   1.1008  \n",
              "2   0.3212  \n",
              "3   1.5999  \n",
              "4   1.2273  "
            ],
            "text/html": [
              "\n",
              "  <div id=\"df-486dc71d-49c6-4bb6-bd58-eab45dee64d3\">\n",
              "    <div class=\"colab-df-container\">\n",
              "      <div>\n",
              "<style scoped>\n",
              "    .dataframe tbody tr th:only-of-type {\n",
              "        vertical-align: middle;\n",
              "    }\n",
              "\n",
              "    .dataframe tbody tr th {\n",
              "        vertical-align: top;\n",
              "    }\n",
              "\n",
              "    .dataframe thead th {\n",
              "        text-align: right;\n",
              "    }\n",
              "</style>\n",
              "<table border=\"1\" class=\"dataframe\">\n",
              "  <thead>\n",
              "    <tr style=\"text-align: right;\">\n",
              "      <th></th>\n",
              "      <th>Size</th>\n",
              "      <th>Boost_Score</th>\n",
              "      <th>Boost_Time (ms)</th>\n",
              "      <th>Normal_Score</th>\n",
              "      <th>Normal_Time (ms)</th>\n",
              "      <th>Speed_X</th>\n",
              "    </tr>\n",
              "  </thead>\n",
              "  <tbody>\n",
              "    <tr>\n",
              "      <th>0</th>\n",
              "      <td>10</td>\n",
              "      <td>0.4</td>\n",
              "      <td>2.5194</td>\n",
              "      <td>0.4</td>\n",
              "      <td>1.0283</td>\n",
              "      <td>0.4082</td>\n",
              "    </tr>\n",
              "    <tr>\n",
              "      <th>1</th>\n",
              "      <td>100</td>\n",
              "      <td>0.5</td>\n",
              "      <td>1.7815</td>\n",
              "      <td>0.5</td>\n",
              "      <td>1.9610</td>\n",
              "      <td>1.1008</td>\n",
              "    </tr>\n",
              "    <tr>\n",
              "      <th>2</th>\n",
              "      <td>1000</td>\n",
              "      <td>0.5</td>\n",
              "      <td>52.0098</td>\n",
              "      <td>0.5</td>\n",
              "      <td>16.7069</td>\n",
              "      <td>0.3212</td>\n",
              "    </tr>\n",
              "    <tr>\n",
              "      <th>3</th>\n",
              "      <td>10000</td>\n",
              "      <td>0.5</td>\n",
              "      <td>574.8358</td>\n",
              "      <td>0.5</td>\n",
              "      <td>919.7056</td>\n",
              "      <td>1.5999</td>\n",
              "    </tr>\n",
              "    <tr>\n",
              "      <th>4</th>\n",
              "      <td>70000</td>\n",
              "      <td>0.5</td>\n",
              "      <td>30790.2868</td>\n",
              "      <td>0.5</td>\n",
              "      <td>37789.9411</td>\n",
              "      <td>1.2273</td>\n",
              "    </tr>\n",
              "  </tbody>\n",
              "</table>\n",
              "</div>\n",
              "      <button class=\"colab-df-convert\" onclick=\"convertToInteractive('df-486dc71d-49c6-4bb6-bd58-eab45dee64d3')\"\n",
              "              title=\"Convert this dataframe to an interactive table.\"\n",
              "              style=\"display:none;\">\n",
              "        \n",
              "  <svg xmlns=\"http://www.w3.org/2000/svg\" height=\"24px\"viewBox=\"0 0 24 24\"\n",
              "       width=\"24px\">\n",
              "    <path d=\"M0 0h24v24H0V0z\" fill=\"none\"/>\n",
              "    <path d=\"M18.56 5.44l.94 2.06.94-2.06 2.06-.94-2.06-.94-.94-2.06-.94 2.06-2.06.94zm-11 1L8.5 8.5l.94-2.06 2.06-.94-2.06-.94L8.5 2.5l-.94 2.06-2.06.94zm10 10l.94 2.06.94-2.06 2.06-.94-2.06-.94-.94-2.06-.94 2.06-2.06.94z\"/><path d=\"M17.41 7.96l-1.37-1.37c-.4-.4-.92-.59-1.43-.59-.52 0-1.04.2-1.43.59L10.3 9.45l-7.72 7.72c-.78.78-.78 2.05 0 2.83L4 21.41c.39.39.9.59 1.41.59.51 0 1.02-.2 1.41-.59l7.78-7.78 2.81-2.81c.8-.78.8-2.07 0-2.86zM5.41 20L4 18.59l7.72-7.72 1.47 1.35L5.41 20z\"/>\n",
              "  </svg>\n",
              "      </button>\n",
              "      \n",
              "  <style>\n",
              "    .colab-df-container {\n",
              "      display:flex;\n",
              "      flex-wrap:wrap;\n",
              "      gap: 12px;\n",
              "    }\n",
              "\n",
              "    .colab-df-convert {\n",
              "      background-color: #E8F0FE;\n",
              "      border: none;\n",
              "      border-radius: 50%;\n",
              "      cursor: pointer;\n",
              "      display: none;\n",
              "      fill: #1967D2;\n",
              "      height: 32px;\n",
              "      padding: 0 0 0 0;\n",
              "      width: 32px;\n",
              "    }\n",
              "\n",
              "    .colab-df-convert:hover {\n",
              "      background-color: #E2EBFA;\n",
              "      box-shadow: 0px 1px 2px rgba(60, 64, 67, 0.3), 0px 1px 3px 1px rgba(60, 64, 67, 0.15);\n",
              "      fill: #174EA6;\n",
              "    }\n",
              "\n",
              "    [theme=dark] .colab-df-convert {\n",
              "      background-color: #3B4455;\n",
              "      fill: #D2E3FC;\n",
              "    }\n",
              "\n",
              "    [theme=dark] .colab-df-convert:hover {\n",
              "      background-color: #434B5C;\n",
              "      box-shadow: 0px 1px 3px 1px rgba(0, 0, 0, 0.15);\n",
              "      filter: drop-shadow(0px 1px 2px rgba(0, 0, 0, 0.3));\n",
              "      fill: #FFFFFF;\n",
              "    }\n",
              "  </style>\n",
              "\n",
              "      <script>\n",
              "        const buttonEl =\n",
              "          document.querySelector('#df-486dc71d-49c6-4bb6-bd58-eab45dee64d3 button.colab-df-convert');\n",
              "        buttonEl.style.display =\n",
              "          google.colab.kernel.accessAllowed ? 'block' : 'none';\n",
              "\n",
              "        async function convertToInteractive(key) {\n",
              "          const element = document.querySelector('#df-486dc71d-49c6-4bb6-bd58-eab45dee64d3');\n",
              "          const dataTable =\n",
              "            await google.colab.kernel.invokeFunction('convertToInteractive',\n",
              "                                                     [key], {});\n",
              "          if (!dataTable) return;\n",
              "\n",
              "          const docLinkHtml = 'Like what you see? Visit the ' +\n",
              "            '<a target=\"_blank\" href=https://colab.research.google.com/notebooks/data_table.ipynb>data table notebook</a>'\n",
              "            + ' to learn more about interactive tables.';\n",
              "          element.innerHTML = '';\n",
              "          dataTable['output_type'] = 'display_data';\n",
              "          await google.colab.output.renderOutput(dataTable, element);\n",
              "          const docLink = document.createElement('div');\n",
              "          docLink.innerHTML = docLinkHtml;\n",
              "          element.appendChild(docLink);\n",
              "        }\n",
              "      </script>\n",
              "    </div>\n",
              "  </div>\n",
              "  "
            ]
          },
          "metadata": {}
        }
      ]
    },
    {
      "cell_type": "code",
      "source": [
        "sns.set_style(\"darkgrid\")\n",
        "fig, axes = plt.subplots(1, 2, figsize=(20, 6))\n",
        " \n",
        "fig.suptitle('SklearnEX vs. Normal Sklearn for SVC')\n",
        "\n",
        "\n",
        "sns.lineplot(ax=axes[0], data = results, x='Size', y='Boost_Time (ms)')\n",
        "sns.lineplot(ax=axes[0], data = results, x='Size', y='Normal_Time (ms)')\n",
        "sns.lineplot(ax=axes[1], data = results, x='Size', y='Speed_X', color='green')\n",
        "\n",
        " \n",
        "axes[0].set_title('Time Used in Training')\n",
        "axes[1].set_title('Speed Ratio')\n",
        "axes[0].legend(['Boost_Time (ms)', 'Normal_Time (ms)'])\n",
        "axes[0].legend(['Speed_X'])"
      ],
      "metadata": {
        "colab": {
          "base_uri": "https://localhost:8080/",
          "height": 449
        },
        "id": "sv8F2AyUpdDi",
        "outputId": "3a6b87f8-6512-4164-aada-f1777e79eba2"
      },
      "execution_count": 15,
      "outputs": [
        {
          "output_type": "execute_result",
          "data": {
            "text/plain": [
              "<matplotlib.legend.Legend at 0x7f0dc07186d0>"
            ]
          },
          "metadata": {},
          "execution_count": 15
        },
        {
          "output_type": "display_data",
          "data": {
            "text/plain": [
              "<Figure size 1440x432 with 2 Axes>"
            ],
            "image/png": "[encoded data removed]"
          },
          "metadata": {}
        }
      ]
    },
    {
      "cell_type": "markdown",
      "source": [
        "### Random Forest vs. XGBoost"
      ],
      "metadata": {
        "id": "NofT8EbODAhp"
      }
    },
    {
      "cell_type": "code",
      "source": [
        "score_1 = []\n",
        "time_lapse_1 = []\n",
        "score_2 = []\n",
        "time_lapse_2 = []\n",
        "score_3 = []\n",
        "time_lapse_3 = []\n",
        "\n",
        "for i in range(1,6):\n",
        "  print(i)\n",
        "  patch_sklearn()\n",
        "  from sklearn.ensemble import RandomForestClassifier\n",
        "  X, y = make_classification(n_samples = 10**i, n_features= 30, n_informative=25, random_state=42)\n",
        "  tic = time.time()\n",
        "  model = RandomForestClassifier(random_state = 42).fit(X, y)\n",
        "  toc = time.time()\n",
        "  score_1.append(accuracy_score(y,model.predict(X)))\n",
        "  time_lapse_1.append(round(1000*(toc - tic),4))\n",
        "\n",
        "  unpatch_sklearn()\n",
        "  from sklearn.ensemble import RandomForestClassifier\n",
        "  tic = time.time()\n",
        "  model = RandomForestClassifier(random_state=42).fit(X, y)\n",
        "  toc = time.time()\n",
        "  score_2.append(model.score(X,y))\n",
        "  time_lapse_2.append(round(1000*(toc - tic),4))\n",
        "\n",
        "\n",
        "  tic = time.time()\n",
        "  model = XGBClassifier(random_state = 42).fit(X, y)\n",
        "  toc = time.time()\n",
        "  score_3.append(accuracy_score(y,model.predict(X)))\n",
        "  time_lapse_3.append(round(1000*(toc - tic),4))\n"
      ],
      "metadata": {
        "colab": {
          "base_uri": "https://localhost:8080/"
        },
        "id": "lQ9Y9gP6phi8",
        "outputId": "e5ad8f34-13be-4b35-aefb-cb08b8f8df00"
      },
      "execution_count": 15,
      "outputs": [
        {
          "output_type": "stream",
          "name": "stdout",
          "text": [
            "1\n"
          ]
        },
        {
          "output_type": "stream",
          "name": "stderr",
          "text": [
            "Intel(R) Extension for Scikit-learn* enabled (https://github.com/intel/scikit-learn-intelex)\n"
          ]
        },
        {
          "output_type": "stream",
          "name": "stdout",
          "text": [
            "2\n"
          ]
        },
        {
          "output_type": "stream",
          "name": "stderr",
          "text": [
            "Intel(R) Extension for Scikit-learn* enabled (https://github.com/intel/scikit-learn-intelex)\n"
          ]
        },
        {
          "output_type": "stream",
          "name": "stdout",
          "text": [
            "3\n"
          ]
        },
        {
          "output_type": "stream",
          "name": "stderr",
          "text": [
            "Intel(R) Extension for Scikit-learn* enabled (https://github.com/intel/scikit-learn-intelex)\n"
          ]
        },
        {
          "output_type": "stream",
          "name": "stdout",
          "text": [
            "4\n"
          ]
        },
        {
          "output_type": "stream",
          "name": "stderr",
          "text": [
            "Intel(R) Extension for Scikit-learn* enabled (https://github.com/intel/scikit-learn-intelex)\n"
          ]
        },
        {
          "output_type": "stream",
          "name": "stdout",
          "text": [
            "5\n"
          ]
        },
        {
          "output_type": "stream",
          "name": "stderr",
          "text": [
            "Intel(R) Extension for Scikit-learn* enabled (https://github.com/intel/scikit-learn-intelex)\n"
          ]
        }
      ]
    },
    {
      "cell_type": "code",
      "source": [
        "results = pd.DataFrame({'Size':[10**i for i in range(1,6)],\n",
        "              'Boost_Score':score_1, \n",
        "              'Boost_Time (ms)':time_lapse_1,\n",
        "              'Normal_Score':score_2, \n",
        "              'Normal_Time (ms)':time_lapse_2,\n",
        "              'XGB_Score':score_3, \n",
        "              'XGB_Time (ms)':time_lapse_3,\n",
        "              'Speed_X_RR':[round(a/b,4) for a,b in zip(time_lapse_2,time_lapse_1)],\n",
        "              'Speed_X_RX':[round(a/b,4) for a,b in zip(time_lapse_3,time_lapse_1)]})\n",
        "display(results)"
      ],
      "metadata": {
        "colab": {
          "base_uri": "https://localhost:8080/",
          "height": 206
        },
        "id": "N768nfID5hRF",
        "outputId": "edade7b8-ae29-4aff-cc22-b42d125caede"
      },
      "execution_count": 17,
      "outputs": [
        {
          "output_type": "display_data",
          "data": {
            "text/plain": [
              "     Size  Boost_Score  Boost_Time (ms)  Normal_Score  Normal_Time (ms)  \\\n",
              "0      10          1.0         147.6934           1.0          125.5891   \n",
              "1     100          1.0          36.5903           1.0          141.9308   \n",
              "2    1000          1.0         112.1566           1.0          452.4207   \n",
              "3   10000          1.0         722.0433           1.0         4817.0550   \n",
              "4  100000          1.0        7350.0137           1.0        74196.8100   \n",
              "\n",
              "   XGB_Score  XGB_Time (ms)  Speed_X_RR  Speed_X_RX  \n",
              "0    1.00000         9.5313      0.8503      0.0645  \n",
              "1    1.00000        31.3256      3.8789      0.8561  \n",
              "2    0.98000       227.1740      4.0338      2.0255  \n",
              "3    0.92370      2188.8707      6.6714      3.0315  \n",
              "4    0.87299     24771.9567     10.0948      3.3703  "
            ],
            "text/html": [
              "\n",
              "  <div id=\"df-9fa1b123-96c8-4b44-83e2-c5c29a10c4c5\">\n",
              "    <div class=\"colab-df-container\">\n",
              "      <div>\n",
              "<style scoped>\n",
              "    .dataframe tbody tr th:only-of-type {\n",
              "        vertical-align: middle;\n",
              "    }\n",
              "\n",
              "    .dataframe tbody tr th {\n",
              "        vertical-align: top;\n",
              "    }\n",
              "\n",
              "    .dataframe thead th {\n",
              "        text-align: right;\n",
              "    }\n",
              "</style>\n",
              "<table border=\"1\" class=\"dataframe\">\n",
              "  <thead>\n",
              "    <tr style=\"text-align: right;\">\n",
              "      <th></th>\n",
              "      <th>Size</th>\n",
              "      <th>Boost_Score</th>\n",
              "      <th>Boost_Time (ms)</th>\n",
              "      <th>Normal_Score</th>\n",
              "      <th>Normal_Time (ms)</th>\n",
              "      <th>XGB_Score</th>\n",
              "      <th>XGB_Time (ms)</th>\n",
              "      <th>Speed_X_RR</th>\n",
              "      <th>Speed_X_RX</th>\n",
              "    </tr>\n",
              "  </thead>\n",
              "  <tbody>\n",
              "    <tr>\n",
              "      <th>0</th>\n",
              "      <td>10</td>\n",
              "      <td>1.0</td>\n",
              "      <td>147.6934</td>\n",
              "      <td>1.0</td>\n",
              "      <td>125.5891</td>\n",
              "      <td>1.00000</td>\n",
              "      <td>9.5313</td>\n",
              "      <td>0.8503</td>\n",
              "      <td>0.0645</td>\n",
              "    </tr>\n",
              "    <tr>\n",
              "      <th>1</th>\n",
              "      <td>100</td>\n",
              "      <td>1.0</td>\n",
              "      <td>36.5903</td>\n",
              "      <td>1.0</td>\n",
              "      <td>141.9308</td>\n",
              "      <td>1.00000</td>\n",
              "      <td>31.3256</td>\n",
              "      <td>3.8789</td>\n",
              "      <td>0.8561</td>\n",
              "    </tr>\n",
              "    <tr>\n",
              "      <th>2</th>\n",
              "      <td>1000</td>\n",
              "      <td>1.0</td>\n",
              "      <td>112.1566</td>\n",
              "      <td>1.0</td>\n",
              "      <td>452.4207</td>\n",
              "      <td>0.98000</td>\n",
              "      <td>227.1740</td>\n",
              "      <td>4.0338</td>\n",
              "      <td>2.0255</td>\n",
              "    </tr>\n",
              "    <tr>\n",
              "      <th>3</th>\n",
              "      <td>10000</td>\n",
              "      <td>1.0</td>\n",
              "      <td>722.0433</td>\n",
              "      <td>1.0</td>\n",
              "      <td>4817.0550</td>\n",
              "      <td>0.92370</td>\n",
              "      <td>2188.8707</td>\n",
              "      <td>6.6714</td>\n",
              "      <td>3.0315</td>\n",
              "    </tr>\n",
              "    <tr>\n",
              "      <th>4</th>\n",
              "      <td>100000</td>\n",
              "      <td>1.0</td>\n",
              "      <td>7350.0137</td>\n",
              "      <td>1.0</td>\n",
              "      <td>74196.8100</td>\n",
              "      <td>0.87299</td>\n",
              "      <td>24771.9567</td>\n",
              "      <td>10.0948</td>\n",
              "      <td>3.3703</td>\n",
              "    </tr>\n",
              "  </tbody>\n",
              "</table>\n",
              "</div>\n",
              "      <button class=\"colab-df-convert\" onclick=\"convertToInteractive('df-9fa1b123-96c8-4b44-83e2-c5c29a10c4c5')\"\n",
              "              title=\"Convert this dataframe to an interactive table.\"\n",
              "              style=\"display:none;\">\n",
              "        \n",
              "  <svg xmlns=\"http://www.w3.org/2000/svg\" height=\"24px\"viewBox=\"0 0 24 24\"\n",
              "       width=\"24px\">\n",
              "    <path d=\"M0 0h24v24H0V0z\" fill=\"none\"/>\n",
              "    <path d=\"M18.56 5.44l.94 2.06.94-2.06 2.06-.94-2.06-.94-.94-2.06-.94 2.06-2.06.94zm-11 1L8.5 8.5l.94-2.06 2.06-.94-2.06-.94L8.5 2.5l-.94 2.06-2.06.94zm10 10l.94 2.06.94-2.06 2.06-.94-2.06-.94-.94-2.06-.94 2.06-2.06.94z\"/><path d=\"M17.41 7.96l-1.37-1.37c-.4-.4-.92-.59-1.43-.59-.52 0-1.04.2-1.43.59L10.3 9.45l-7.72 7.72c-.78.78-.78 2.05 0 2.83L4 21.41c.39.39.9.59 1.41.59.51 0 1.02-.2 1.41-.59l7.78-7.78 2.81-2.81c.8-.78.8-2.07 0-2.86zM5.41 20L4 18.59l7.72-7.72 1.47 1.35L5.41 20z\"/>\n",
              "  </svg>\n",
              "      </button>\n",
              "      \n",
              "  <style>\n",
              "    .colab-df-container {\n",
              "      display:flex;\n",
              "      flex-wrap:wrap;\n",
              "      gap: 12px;\n",
              "    }\n",
              "\n",
              "    .colab-df-convert {\n",
              "      background-color: #E8F0FE;\n",
              "      border: none;\n",
              "      border-radius: 50%;\n",
              "      cursor: pointer;\n",
              "      display: none;\n",
              "      fill: #1967D2;\n",
              "      height: 32px;\n",
              "      padding: 0 0 0 0;\n",
              "      width: 32px;\n",
              "    }\n",
              "\n",
              "    .colab-df-convert:hover {\n",
              "      background-color: #E2EBFA;\n",
              "      box-shadow: 0px 1px 2px rgba(60, 64, 67, 0.3), 0px 1px 3px 1px rgba(60, 64, 67, 0.15);\n",
              "      fill: #174EA6;\n",
              "    }\n",
              "\n",
              "    [theme=dark] .colab-df-convert {\n",
              "      background-color: #3B4455;\n",
              "      fill: #D2E3FC;\n",
              "    }\n",
              "\n",
              "    [theme=dark] .colab-df-convert:hover {\n",
              "      background-color: #434B5C;\n",
              "      box-shadow: 0px 1px 3px 1px rgba(0, 0, 0, 0.15);\n",
              "      filter: drop-shadow(0px 1px 2px rgba(0, 0, 0, 0.3));\n",
              "      fill: #FFFFFF;\n",
              "    }\n",
              "  </style>\n",
              "\n",
              "      <script>\n",
              "        const buttonEl =\n",
              "          document.querySelector('#df-9fa1b123-96c8-4b44-83e2-c5c29a10c4c5 button.colab-df-convert');\n",
              "        buttonEl.style.display =\n",
              "          google.colab.kernel.accessAllowed ? 'block' : 'none';\n",
              "\n",
              "        async function convertToInteractive(key) {\n",
              "          const element = document.querySelector('#df-9fa1b123-96c8-4b44-83e2-c5c29a10c4c5');\n",
              "          const dataTable =\n",
              "            await google.colab.kernel.invokeFunction('convertToInteractive',\n",
              "                                                     [key], {});\n",
              "          if (!dataTable) return;\n",
              "\n",
              "          const docLinkHtml = 'Like what you see? Visit the ' +\n",
              "            '<a target=\"_blank\" href=https://colab.research.google.com/notebooks/data_table.ipynb>data table notebook</a>'\n",
              "            + ' to learn more about interactive tables.';\n",
              "          element.innerHTML = '';\n",
              "          dataTable['output_type'] = 'display_data';\n",
              "          await google.colab.output.renderOutput(dataTable, element);\n",
              "          const docLink = document.createElement('div');\n",
              "          docLink.innerHTML = docLinkHtml;\n",
              "          element.appendChild(docLink);\n",
              "        }\n",
              "      </script>\n",
              "    </div>\n",
              "  </div>\n",
              "  "
            ]
          },
          "metadata": {}
        }
      ]
    },
    {
      "cell_type": "code",
      "source": [
        "sns.set_style(\"darkgrid\")\n",
        "fig, axes = plt.subplots(1, 2, figsize=(20, 6))\n",
        " \n",
        "fig.suptitle('SklearnEX vs. Normal Sklearn for SVC')\n",
        "\n",
        "\n",
        "sns.lineplot(ax=axes[0], data = results, x='Size', y='Boost_Time (ms)')\n",
        "sns.lineplot(ax=axes[0], data = results, x='Size', y='Normal_Time (ms)')\n",
        "sns.lineplot(ax=axes[0], data = results, x='Size', y='XGB_Time (ms)')\n",
        "sns.lineplot(ax=axes[1], data = results, x='Size', y='Speed_X_RR', color='green')\n",
        "sns.lineplot(ax=axes[1], data = results, x='Size', y='Speed_X_RX', color='purple')\n",
        "\n",
        " \n",
        "axes[0].set_title('Time Used in Training')\n",
        "axes[1].set_title('Speed Ratio')\n",
        "axes[0].legend(['Boost_Time (ms)', 'Normal_Time (ms)'])\n",
        "axes[1].legend(['Speed_X_RR','Speed_X_RX'])"
      ],
      "metadata": {
        "colab": {
          "base_uri": "https://localhost:8080/",
          "height": 449
        },
        "id": "QZz28rk77nEE",
        "outputId": "d3f51068-6536-46b7-e08a-d787798b5b19"
      },
      "execution_count": 20,
      "outputs": [
        {
          "output_type": "execute_result",
          "data": {
            "text/plain": [
              "<matplotlib.legend.Legend at 0x7fc7bd6c5350>"
            ]
          },
          "metadata": {},
          "execution_count": 20
        },
        {
          "output_type": "display_data",
          "data": {
            "text/plain": [
              "<Figure size 1440x432 with 2 Axes>"
            ],
            "image/png": "[encoded data removed]"
          },
          "metadata": {}
        }
      ]
    },
    {
      "cell_type": "code",
      "source": [
        ""
      ],
      "metadata": {
        "id": "VJFVvUhv8PXo"
      },
      "execution_count": null,
      "outputs": []
    }
  ]
}