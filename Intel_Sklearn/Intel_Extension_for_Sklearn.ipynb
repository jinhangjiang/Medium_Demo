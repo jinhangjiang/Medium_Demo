{
  "nbformat": 4,
  "nbformat_minor": 0,
  "metadata": {
    "colab": {
      "name": "Intel_Extension_for_Sklearn.ipynb",
      "provenance": [],
      "machine_shape": "hm"
    },
    "kernelspec": {
      "name": "python3",
      "display_name": "Python 3"
    },
    "language_info": {
      "name": "python"
    }
  },
  "cells": [
    {
      "cell_type": "markdown",
      "source": [
        "# Run Your Sklearn Code 100X Faster\n",
        "- Medium Blog Link: https://towardsdatascience.com/one-line-of-code-to-accelerate-your-sklearn-algorithms-on-big-data-9c26190a0dc5\n",
        "- Author: [Jinhang Jiang](https://www.linkedin.com/in/jinhangjiang/)\n",
        "- Reference: https://intel.github.io/scikit-learn-intelex/"
      ],
      "metadata": {
        "id": "iW7K5RK-uTih"
      }
    },
    {
      "cell_type": "markdown",
      "source": [
        "### Install Package"
      ],
      "metadata": {
        "id": "-EQRePX0vPow"
      }
    },
    {
      "cell_type": "code",
      "execution_count": 31,
      "metadata": {
        "colab": {
          "base_uri": "https://localhost:8080/"
        },
        "id": "IpdZIxxbtrI5",
        "outputId": "d8dbfe7a-dfec-478e-9358-667cebf795d5"
      },
      "outputs": [
        {
          "output_type": "stream",
          "name": "stdout",
          "text": [
            "Requirement already satisfied: scikit-learn-intelex in /usr/local/lib/python3.7/dist-packages (2021.5.3)\n",
            "Requirement already satisfied: daal4py==2021.5.3 in /usr/local/lib/python3.7/dist-packages (from scikit-learn-intelex) (2021.5.3)\n",
            "Requirement already satisfied: scikit-learn>=0.22 in /usr/local/lib/python3.7/dist-packages (from scikit-learn-intelex) (1.0.2)\n",
            "Requirement already satisfied: numpy>=1.15 in /usr/local/lib/python3.7/dist-packages (from daal4py==2021.5.3->scikit-learn-intelex) (1.21.6)\n",
            "Requirement already satisfied: daal==2021.5.3 in /usr/local/lib/python3.7/dist-packages (from daal4py==2021.5.3->scikit-learn-intelex) (2021.5.3)\n",
            "Requirement already satisfied: tbb==2021.* in /usr/local/lib/python3.7/dist-packages (from daal==2021.5.3->daal4py==2021.5.3->scikit-learn-intelex) (2021.6.0)\n",
            "Requirement already satisfied: joblib>=0.11 in /usr/local/lib/python3.7/dist-packages (from scikit-learn>=0.22->scikit-learn-intelex) (1.1.0)\n",
            "Requirement already satisfied: threadpoolctl>=2.0.0 in /usr/local/lib/python3.7/dist-packages (from scikit-learn>=0.22->scikit-learn-intelex) (3.1.0)\n",
            "Requirement already satisfied: scipy>=1.1.0 in /usr/local/lib/python3.7/dist-packages (from scikit-learn>=0.22->scikit-learn-intelex) (1.4.1)\n"
          ]
        }
      ],
      "source": [
        "!pip install scikit-learn-intelex"
      ]
    },
    {
      "cell_type": "markdown",
      "source": [
        "### Import Necessary Packages"
      ],
      "metadata": {
        "id": "DooYWzNYvutE"
      }
    },
    {
      "cell_type": "code",
      "source": [
        "from sklearnex import patch_sklearn, unpatch_sklearn\n",
        "from sklearn.datasets import make_classification, make_regression, make_moons\n",
        "from sklearn.metrics import accuracy_score\n",
        "import pandas as pd\n",
        "import seaborn as sns\n",
        "import matplotlib.pyplot as plt\n",
        "import time\n",
        "from xgboost import XGBClassifier"
      ],
      "metadata": {
        "id": "ij2abM4xvuFL"
      },
      "execution_count": 1,
      "outputs": []
    },
    {
      "cell_type": "markdown",
      "source": [
        "### Random Forest - Regressor"
      ],
      "metadata": {
        "id": "fV7wflluvnJi"
      }
    },
    {
      "cell_type": "code",
      "source": [
        "patch_sklearn()\n",
        "from sklearn.ensemble import RandomForestRegressor\n",
        "\n",
        "score_1 = []\n",
        "time_lapse_1 = []\n",
        "\n",
        "for i in range(1,6):\n",
        "  print(i)\n",
        "  X, y = make_regression(n_samples = 10**i, n_features= 30, n_informative=25, random_state=42)\n",
        "  tic = time.time()\n",
        "  model = RandomForestRegressor().fit(X, y)\n",
        "  toc = time.time()\n",
        "  score_1.append(model.score(X,y))\n",
        "  time_lapse_1.append(round(1000*(toc - tic),4))"
      ],
      "metadata": {
        "colab": {
          "base_uri": "https://localhost:8080/"
        },
        "id": "wuBKoJWhyejZ",
        "outputId": "20034f15-c38a-4245-c645-397ca9421f0e"
      },
      "execution_count": 2,
      "outputs": [
        {
          "output_type": "stream",
          "name": "stderr",
          "text": [
            "Intel(R) Extension for Scikit-learn* enabled (https://github.com/intel/scikit-learn-intelex)\n"
          ]
        },
        {
          "output_type": "stream",
          "name": "stdout",
          "text": [
            "1\n",
            "2\n",
            "3\n",
            "4\n",
            "5\n"
          ]
        }
      ]
    },
    {
      "cell_type": "code",
      "source": [
        "unpatch_sklearn()\n",
        "from sklearn.ensemble import RandomForestRegressor\n",
        "\n",
        "score_2 = []\n",
        "time_lapse_2 = []\n",
        "\n",
        "for i in range(1,6):\n",
        "  print(i)\n",
        "  X, y = make_regression(n_samples = 10**i, n_features= 30, n_informative=25, random_state=42)\n",
        "  tic = time.time()\n",
        "  model = RandomForestRegressor(random_state=42).fit(X, y)\n",
        "  toc = time.time()\n",
        "  score_2.append(model.score(X,y))\n",
        "  time_lapse_2.append(round(1000*(toc - tic),4))"
      ],
      "metadata": {
        "colab": {
          "base_uri": "https://localhost:8080/"
        },
        "id": "Qk6PxAA83xSG",
        "outputId": "c612f6ee-99d8-461b-9e7e-c803633a4027"
      },
      "execution_count": 3,
      "outputs": [
        {
          "output_type": "stream",
          "name": "stdout",
          "text": [
            "1\n",
            "2\n",
            "3\n",
            "4\n",
            "5\n"
          ]
        }
      ]
    },
    {
      "cell_type": "code",
      "source": [
        "results = pd.DataFrame({'Size':[10**i for i in range(1,6)],\n",
        "              'Boost_Score':score_1, \n",
        "              'Boost_Time (ms)':time_lapse_1,\n",
        "              'Normal_Score':score_2, \n",
        "              'Normal_Time (ms)':time_lapse_2,\n",
        "              'Speed_X':[round(a/b,4) for a,b in zip(time_lapse_2,time_lapse_1)]})\n",
        "\n",
        "display(results)"
      ],
      "metadata": {
        "id": "Tchoc6Da5JV1",
        "colab": {
          "base_uri": "https://localhost:8080/",
          "height": 206
        },
        "outputId": "a76317a2-5f69-4f39-fd47-1eb2044c213b"
      },
      "execution_count": 4,
      "outputs": [
        {
          "output_type": "display_data",
          "data": {
            "text/plain": [
              "     Size  Boost_Score  Boost_Time (ms)  Normal_Score  Normal_Time (ms)  \\\n",
              "0      10     0.670895         121.4302      0.767732          117.7182   \n",
              "1     100     0.914718          64.0523      0.902497          447.5555   \n",
              "2    1000     0.924330         440.7175      0.939306         1622.6516   \n",
              "3   10000     0.960343        4148.3078      0.961240        22735.4689   \n",
              "4  100000     0.970475       48668.0329      0.971543       327640.6515   \n",
              "\n",
              "   Speed_X  \n",
              "0   0.9694  \n",
              "1   6.9873  \n",
              "2   3.6818  \n",
              "3   5.4807  \n",
              "4   6.7322  "
            ],
            "text/html": [
              "\n",
              "  <div id=\"df-b89fe0ce-dccf-48b9-8a1f-4ac3ec6e73ed\">\n",
              "    <div class=\"colab-df-container\">\n",
              "      <div>\n",
              "<style scoped>\n",
              "    .dataframe tbody tr th:only-of-type {\n",
              "        vertical-align: middle;\n",
              "    }\n",
              "\n",
              "    .dataframe tbody tr th {\n",
              "        vertical-align: top;\n",
              "    }\n",
              "\n",
              "    .dataframe thead th {\n",
              "        text-align: right;\n",
              "    }\n",
              "</style>\n",
              "<table border=\"1\" class=\"dataframe\">\n",
              "  <thead>\n",
              "    <tr style=\"text-align: right;\">\n",
              "      <th></th>\n",
              "      <th>Size</th>\n",
              "      <th>Boost_Score</th>\n",
              "      <th>Boost_Time (ms)</th>\n",
              "      <th>Normal_Score</th>\n",
              "      <th>Normal_Time (ms)</th>\n",
              "      <th>Speed_X</th>\n",
              "    </tr>\n",
              "  </thead>\n",
              "  <tbody>\n",
              "    <tr>\n",
              "      <th>0</th>\n",
              "      <td>10</td>\n",
              "      <td>0.670895</td>\n",
              "      <td>121.4302</td>\n",
              "      <td>0.767732</td>\n",
              "      <td>117.7182</td>\n",
              "      <td>0.9694</td>\n",
              "    </tr>\n",
              "    <tr>\n",
              "      <th>1</th>\n",
              "      <td>100</td>\n",
              "      <td>0.914718</td>\n",
              "      <td>64.0523</td>\n",
              "      <td>0.902497</td>\n",
              "      <td>447.5555</td>\n",
              "      <td>6.9873</td>\n",
              "    </tr>\n",
              "    <tr>\n",
              "      <th>2</th>\n",
              "      <td>1000</td>\n",
              "      <td>0.924330</td>\n",
              "      <td>440.7175</td>\n",
              "      <td>0.939306</td>\n",
              "      <td>1622.6516</td>\n",
              "      <td>3.6818</td>\n",
              "    </tr>\n",
              "    <tr>\n",
              "      <th>3</th>\n",
              "      <td>10000</td>\n",
              "      <td>0.960343</td>\n",
              "      <td>4148.3078</td>\n",
              "      <td>0.961240</td>\n",
              "      <td>22735.4689</td>\n",
              "      <td>5.4807</td>\n",
              "    </tr>\n",
              "    <tr>\n",
              "      <th>4</th>\n",
              "      <td>100000</td>\n",
              "      <td>0.970475</td>\n",
              "      <td>48668.0329</td>\n",
              "      <td>0.971543</td>\n",
              "      <td>327640.6515</td>\n",
              "      <td>6.7322</td>\n",
              "    </tr>\n",
              "  </tbody>\n",
              "</table>\n",
              "</div>\n",
              "      <button class=\"colab-df-convert\" onclick=\"convertToInteractive('df-b89fe0ce-dccf-48b9-8a1f-4ac3ec6e73ed')\"\n",
              "              title=\"Convert this dataframe to an interactive table.\"\n",
              "              style=\"display:none;\">\n",
              "        \n",
              "  <svg xmlns=\"http://www.w3.org/2000/svg\" height=\"24px\"viewBox=\"0 0 24 24\"\n",
              "       width=\"24px\">\n",
              "    <path d=\"M0 0h24v24H0V0z\" fill=\"none\"/>\n",
              "    <path d=\"M18.56 5.44l.94 2.06.94-2.06 2.06-.94-2.06-.94-.94-2.06-.94 2.06-2.06.94zm-11 1L8.5 8.5l.94-2.06 2.06-.94-2.06-.94L8.5 2.5l-.94 2.06-2.06.94zm10 10l.94 2.06.94-2.06 2.06-.94-2.06-.94-.94-2.06-.94 2.06-2.06.94z\"/><path d=\"M17.41 7.96l-1.37-1.37c-.4-.4-.92-.59-1.43-.59-.52 0-1.04.2-1.43.59L10.3 9.45l-7.72 7.72c-.78.78-.78 2.05 0 2.83L4 21.41c.39.39.9.59 1.41.59.51 0 1.02-.2 1.41-.59l7.78-7.78 2.81-2.81c.8-.78.8-2.07 0-2.86zM5.41 20L4 18.59l7.72-7.72 1.47 1.35L5.41 20z\"/>\n",
              "  </svg>\n",
              "      </button>\n",
              "      \n",
              "  <style>\n",
              "    .colab-df-container {\n",
              "      display:flex;\n",
              "      flex-wrap:wrap;\n",
              "      gap: 12px;\n",
              "    }\n",
              "\n",
              "    .colab-df-convert {\n",
              "      background-color: #E8F0FE;\n",
              "      border: none;\n",
              "      border-radius: 50%;\n",
              "      cursor: pointer;\n",
              "      display: none;\n",
              "      fill: #1967D2;\n",
              "      height: 32px;\n",
              "      padding: 0 0 0 0;\n",
              "      width: 32px;\n",
              "    }\n",
              "\n",
              "    .colab-df-convert:hover {\n",
              "      background-color: #E2EBFA;\n",
              "      box-shadow: 0px 1px 2px rgba(60, 64, 67, 0.3), 0px 1px 3px 1px rgba(60, 64, 67, 0.15);\n",
              "      fill: #174EA6;\n",
              "    }\n",
              "\n",
              "    [theme=dark] .colab-df-convert {\n",
              "      background-color: #3B4455;\n",
              "      fill: #D2E3FC;\n",
              "    }\n",
              "\n",
              "    [theme=dark] .colab-df-convert:hover {\n",
              "      background-color: #434B5C;\n",
              "      box-shadow: 0px 1px 3px 1px rgba(0, 0, 0, 0.15);\n",
              "      filter: drop-shadow(0px 1px 2px rgba(0, 0, 0, 0.3));\n",
              "      fill: #FFFFFF;\n",
              "    }\n",
              "  </style>\n",
              "\n",
              "      <script>\n",
              "        const buttonEl =\n",
              "          document.querySelector('#df-b89fe0ce-dccf-48b9-8a1f-4ac3ec6e73ed button.colab-df-convert');\n",
              "        buttonEl.style.display =\n",
              "          google.colab.kernel.accessAllowed ? 'block' : 'none';\n",
              "\n",
              "        async function convertToInteractive(key) {\n",
              "          const element = document.querySelector('#df-b89fe0ce-dccf-48b9-8a1f-4ac3ec6e73ed');\n",
              "          const dataTable =\n",
              "            await google.colab.kernel.invokeFunction('convertToInteractive',\n",
              "                                                     [key], {});\n",
              "          if (!dataTable) return;\n",
              "\n",
              "          const docLinkHtml = 'Like what you see? Visit the ' +\n",
              "            '<a target=\"_blank\" href=https://colab.research.google.com/notebooks/data_table.ipynb>data table notebook</a>'\n",
              "            + ' to learn more about interactive tables.';\n",
              "          element.innerHTML = '';\n",
              "          dataTable['output_type'] = 'display_data';\n",
              "          await google.colab.output.renderOutput(dataTable, element);\n",
              "          const docLink = document.createElement('div');\n",
              "          docLink.innerHTML = docLinkHtml;\n",
              "          element.appendChild(docLink);\n",
              "        }\n",
              "      </script>\n",
              "    </div>\n",
              "  </div>\n",
              "  "
            ]
          },
          "metadata": {}
        }
      ]
    },
    {
      "cell_type": "code",
      "source": [
        "sns.set_style(\"darkgrid\")\n",
        "fig, axes = plt.subplots(1, 2, figsize=(20, 6))\n",
        " \n",
        "fig.suptitle('SklearnEX vs. Normal Sklearn for RandomForestRegressor')\n",
        "\n",
        "\n",
        "sns.lineplot(ax=axes[0], data = results, x='Size', y='Boost_Time (ms)')\n",
        "sns.lineplot(ax=axes[0], data = results, x='Size', y='Normal_Time (ms)')\n",
        "sns.lineplot(ax=axes[1], data = results, x='Size', y='Speed_X', color='green')\n",
        "\n",
        " \n",
        "axes[0].set_title('Time Used in Training')\n",
        "axes[1].set_title('Speed Ratio')\n",
        "axes[0].legend(['Boost_Time (ms)', 'Normal_Time (ms)'])\n",
        "axes[1].legend(['Speed_X'])"
      ],
      "metadata": {
        "id": "u8PYdS3QtUKy",
        "colab": {
          "base_uri": "https://localhost:8080/",
          "height": 449
        },
        "outputId": "c9a8f40d-742d-4215-8a24-0c042886be8b"
      },
      "execution_count": 5,
      "outputs": [
        {
          "output_type": "execute_result",
          "data": {
            "text/plain": [
              "<matplotlib.legend.Legend at 0x7fd84a8fdf10>"
            ]
          },
          "metadata": {},
          "execution_count": 5
        },
        {
          "output_type": "display_data",
          "data": {
            "text/plain": [
              "<Figure size 1440x432 with 2 Axes>"
            ],
            "image/png": "[encoded data removed]"
          },
          "metadata": {}
        }
      ]
    },
    {
      "cell_type": "markdown",
      "source": [
        "### SVC - Classification"
      ],
      "metadata": {
        "id": "WGVxnR2pIHKf"
      }
    },
    {
      "cell_type": "code",
      "source": [
        "patch_sklearn()\n",
        "from sklearn.svm import SVC\n",
        "\n",
        "score_1 = []\n",
        "time_lapse_1 = []\n",
        "\n",
        "for i in range(1,6):\n",
        "  print(i)\n",
        "  X, y = make_classification(n_samples = 10**i, n_features= 30, n_informative=25, random_state=42)\n",
        "  tic = time.time()\n",
        "  model = SVC(gamma='auto').fit(X, y)\n",
        "  toc = time.time()\n",
        "  score_1.append(model.score(X,y))\n",
        "  time_lapse_1.append(round(1000*(toc - tic),4))"
      ],
      "metadata": {
        "id": "_I7kyKmkEGpJ",
        "colab": {
          "base_uri": "https://localhost:8080/"
        },
        "outputId": "067095be-dabb-4e2d-c616-2430950fe047"
      },
      "execution_count": 37,
      "outputs": [
        {
          "output_type": "stream",
          "name": "stderr",
          "text": [
            "Intel(R) Extension for Scikit-learn* enabled (https://github.com/intel/scikit-learn-intelex)\n"
          ]
        },
        {
          "output_type": "stream",
          "name": "stdout",
          "text": [
            "1\n",
            "2\n",
            "3\n",
            "4\n",
            "5\n"
          ]
        }
      ]
    },
    {
      "cell_type": "code",
      "source": [
        "unpatch_sklearn()\n",
        "from sklearn.svm import SVC\n",
        "\n",
        "score_2 = []\n",
        "time_lapse_2 = []\n",
        "\n",
        "for i in range(1,6):\n",
        "  print(i)\n",
        "  X, y = make_classification(n_samples = 10**i, n_features= 30, n_informative=25, random_state=42)\n",
        "  tic = time.time()\n",
        "  model = SVC(gamma='auto').fit(X, y)\n",
        "  toc = time.time()\n",
        "  score_2.append(model.score(X,y))\n",
        "  time_lapse_2.append(round(1000*(toc - tic),4))"
      ],
      "metadata": {
        "id": "PkZK9O9JLmdD",
        "colab": {
          "base_uri": "https://localhost:8080/"
        },
        "outputId": "5964e8c6-590f-4423-a89f-09eb3b54ce8f"
      },
      "execution_count": 38,
      "outputs": [
        {
          "output_type": "stream",
          "name": "stdout",
          "text": [
            "1\n",
            "2\n",
            "3\n",
            "4\n",
            "5\n"
          ]
        }
      ]
    },
    {
      "cell_type": "code",
      "source": [
        "results = pd.DataFrame({'Size':[10**i for i in range(1,6)],\n",
        "              'Boost_Score':score_1, \n",
        "              'Boost_Time (ms)':time_lapse_1,\n",
        "              'Normal_Score':score_2, \n",
        "              'Normal_Time (ms)':time_lapse_2,\n",
        "              'Speed_X':[round(a/b,4) for a,b in zip(time_lapse_2,time_lapse_1)]})\n",
        "display(results)"
      ],
      "metadata": {
        "id": "tNsLfzI2Lrnq",
        "colab": {
          "base_uri": "https://localhost:8080/",
          "height": 206
        },
        "outputId": "653e0916-e4ac-4324-d0b8-d66a588949de"
      },
      "execution_count": 39,
      "outputs": [
        {
          "output_type": "display_data",
          "data": {
            "text/plain": [
              "     Size  Boost_Score  Boost_Time (ms)  Normal_Score  Normal_Time (ms)  \\\n",
              "0      10      1.00000         109.4353       1.00000      1.375290e+01   \n",
              "1     100      1.00000           4.8256       1.00000      1.502300e+00   \n",
              "2    1000      1.00000          75.8224       1.00000      1.013458e+02   \n",
              "3   10000      1.00000        2656.8675       1.00000      1.901844e+04   \n",
              "4  100000      0.99968      154667.0077       0.99968      4.966712e+06   \n",
              "\n",
              "   Speed_X  \n",
              "0   0.1257  \n",
              "1   0.3113  \n",
              "2   1.3366  \n",
              "3   7.1582  \n",
              "4  32.1123  "
            ],
            "text/html": [
              "\n",
              "  <div id=\"df-8fafaca7-c56f-4fb6-a62a-f4c89cb81799\">\n",
              "    <div class=\"colab-df-container\">\n",
              "      <div>\n",
              "<style scoped>\n",
              "    .dataframe tbody tr th:only-of-type {\n",
              "        vertical-align: middle;\n",
              "    }\n",
              "\n",
              "    .dataframe tbody tr th {\n",
              "        vertical-align: top;\n",
              "    }\n",
              "\n",
              "    .dataframe thead th {\n",
              "        text-align: right;\n",
              "    }\n",
              "</style>\n",
              "<table border=\"1\" class=\"dataframe\">\n",
              "  <thead>\n",
              "    <tr style=\"text-align: right;\">\n",
              "      <th></th>\n",
              "      <th>Size</th>\n",
              "      <th>Boost_Score</th>\n",
              "      <th>Boost_Time (ms)</th>\n",
              "      <th>Normal_Score</th>\n",
              "      <th>Normal_Time (ms)</th>\n",
              "      <th>Speed_X</th>\n",
              "    </tr>\n",
              "  </thead>\n",
              "  <tbody>\n",
              "    <tr>\n",
              "      <th>0</th>\n",
              "      <td>10</td>\n",
              "      <td>1.00000</td>\n",
              "      <td>109.4353</td>\n",
              "      <td>1.00000</td>\n",
              "      <td>1.375290e+01</td>\n",
              "      <td>0.1257</td>\n",
              "    </tr>\n",
              "    <tr>\n",
              "      <th>1</th>\n",
              "      <td>100</td>\n",
              "      <td>1.00000</td>\n",
              "      <td>4.8256</td>\n",
              "      <td>1.00000</td>\n",
              "      <td>1.502300e+00</td>\n",
              "      <td>0.3113</td>\n",
              "    </tr>\n",
              "    <tr>\n",
              "      <th>2</th>\n",
              "      <td>1000</td>\n",
              "      <td>1.00000</td>\n",
              "      <td>75.8224</td>\n",
              "      <td>1.00000</td>\n",
              "      <td>1.013458e+02</td>\n",
              "      <td>1.3366</td>\n",
              "    </tr>\n",
              "    <tr>\n",
              "      <th>3</th>\n",
              "      <td>10000</td>\n",
              "      <td>1.00000</td>\n",
              "      <td>2656.8675</td>\n",
              "      <td>1.00000</td>\n",
              "      <td>1.901844e+04</td>\n",
              "      <td>7.1582</td>\n",
              "    </tr>\n",
              "    <tr>\n",
              "      <th>4</th>\n",
              "      <td>100000</td>\n",
              "      <td>0.99968</td>\n",
              "      <td>154667.0077</td>\n",
              "      <td>0.99968</td>\n",
              "      <td>4.966712e+06</td>\n",
              "      <td>32.1123</td>\n",
              "    </tr>\n",
              "  </tbody>\n",
              "</table>\n",
              "</div>\n",
              "      <button class=\"colab-df-convert\" onclick=\"convertToInteractive('df-8fafaca7-c56f-4fb6-a62a-f4c89cb81799')\"\n",
              "              title=\"Convert this dataframe to an interactive table.\"\n",
              "              style=\"display:none;\">\n",
              "        \n",
              "  <svg xmlns=\"http://www.w3.org/2000/svg\" height=\"24px\"viewBox=\"0 0 24 24\"\n",
              "       width=\"24px\">\n",
              "    <path d=\"M0 0h24v24H0V0z\" fill=\"none\"/>\n",
              "    <path d=\"M18.56 5.44l.94 2.06.94-2.06 2.06-.94-2.06-.94-.94-2.06-.94 2.06-2.06.94zm-11 1L8.5 8.5l.94-2.06 2.06-.94-2.06-.94L8.5 2.5l-.94 2.06-2.06.94zm10 10l.94 2.06.94-2.06 2.06-.94-2.06-.94-.94-2.06-.94 2.06-2.06.94z\"/><path d=\"M17.41 7.96l-1.37-1.37c-.4-.4-.92-.59-1.43-.59-.52 0-1.04.2-1.43.59L10.3 9.45l-7.72 7.72c-.78.78-.78 2.05 0 2.83L4 21.41c.39.39.9.59 1.41.59.51 0 1.02-.2 1.41-.59l7.78-7.78 2.81-2.81c.8-.78.8-2.07 0-2.86zM5.41 20L4 18.59l7.72-7.72 1.47 1.35L5.41 20z\"/>\n",
              "  </svg>\n",
              "      </button>\n",
              "      \n",
              "  <style>\n",
              "    .colab-df-container {\n",
              "      display:flex;\n",
              "      flex-wrap:wrap;\n",
              "      gap: 12px;\n",
              "    }\n",
              "\n",
              "    .colab-df-convert {\n",
              "      background-color: #E8F0FE;\n",
              "      border: none;\n",
              "      border-radius: 50%;\n",
              "      cursor: pointer;\n",
              "      display: none;\n",
              "      fill: #1967D2;\n",
              "      height: 32px;\n",
              "      padding: 0 0 0 0;\n",
              "      width: 32px;\n",
              "    }\n",
              "\n",
              "    .colab-df-convert:hover {\n",
              "      background-color: #E2EBFA;\n",
              "      box-shadow: 0px 1px 2px rgba(60, 64, 67, 0.3), 0px 1px 3px 1px rgba(60, 64, 67, 0.15);\n",
              "      fill: #174EA6;\n",
              "    }\n",
              "\n",
              "    [theme=dark] .colab-df-convert {\n",
              "      background-color: #3B4455;\n",
              "      fill: #D2E3FC;\n",
              "    }\n",
              "\n",
              "    [theme=dark] .colab-df-convert:hover {\n",
              "      background-color: #434B5C;\n",
              "      box-shadow: 0px 1px 3px 1px rgba(0, 0, 0, 0.15);\n",
              "      filter: drop-shadow(0px 1px 2px rgba(0, 0, 0, 0.3));\n",
              "      fill: #FFFFFF;\n",
              "    }\n",
              "  </style>\n",
              "\n",
              "      <script>\n",
              "        const buttonEl =\n",
              "          document.querySelector('#df-8fafaca7-c56f-4fb6-a62a-f4c89cb81799 button.colab-df-convert');\n",
              "        buttonEl.style.display =\n",
              "          google.colab.kernel.accessAllowed ? 'block' : 'none';\n",
              "\n",
              "        async function convertToInteractive(key) {\n",
              "          const element = document.querySelector('#df-8fafaca7-c56f-4fb6-a62a-f4c89cb81799');\n",
              "          const dataTable =\n",
              "            await google.colab.kernel.invokeFunction('convertToInteractive',\n",
              "                                                     [key], {});\n",
              "          if (!dataTable) return;\n",
              "\n",
              "          const docLinkHtml = 'Like what you see? Visit the ' +\n",
              "            '<a target=\"_blank\" href=https://colab.research.google.com/notebooks/data_table.ipynb>data table notebook</a>'\n",
              "            + ' to learn more about interactive tables.';\n",
              "          element.innerHTML = '';\n",
              "          dataTable['output_type'] = 'display_data';\n",
              "          await google.colab.output.renderOutput(dataTable, element);\n",
              "          const docLink = document.createElement('div');\n",
              "          docLink.innerHTML = docLinkHtml;\n",
              "          element.appendChild(docLink);\n",
              "        }\n",
              "      </script>\n",
              "    </div>\n",
              "  </div>\n",
              "  "
            ]
          },
          "metadata": {}
        }
      ]
    },
    {
      "cell_type": "code",
      "source": [
        "sns.set_style(\"darkgrid\")\n",
        "fig, axes = plt.subplots(1, 2, figsize=(20, 6))\n",
        " \n",
        "fig.suptitle('SklearnEX vs. Normal Sklearn for SVC')\n",
        "\n",
        "\n",
        "sns.lineplot(ax=axes[0], data = results, x='Size', y='Boost_Time (ms)')\n",
        "sns.lineplot(ax=axes[0], data = results, x='Size', y='Normal_Time (ms)')\n",
        "sns.lineplot(ax=axes[1], data = results, x='Size', y='Speed_X', color='green')\n",
        "\n",
        " \n",
        "axes[0].set_title('Time Used in Training')\n",
        "axes[1].set_title('Speed Ratio')\n",
        "axes[0].legend(['Boost_Time (ms)', 'Normal_Time (ms)'])\n",
        "axes[0].legend(['Speed_X'])"
      ],
      "metadata": {
        "id": "L9IafDFVnSg6",
        "colab": {
          "base_uri": "https://localhost:8080/",
          "height": 449
        },
        "outputId": "7b609e90-95e5-4ce3-aa8b-d1d61144dbd2"
      },
      "execution_count": 40,
      "outputs": [
        {
          "output_type": "execute_result",
          "data": {
            "text/plain": [
              "<matplotlib.legend.Legend at 0x7fc7bd465b90>"
            ]
          },
          "metadata": {},
          "execution_count": 40
        },
        {
          "output_type": "display_data",
          "data": {
            "text/plain": [
              "<Figure size 1440x432 with 2 Axes>"
            ],
            "image/png": "[encoded data removed]"
          },
          "metadata": {}
        }
      ]
    },
    {
      "cell_type": "markdown",
      "source": [
        "### DBSCAN"
      ],
      "metadata": {
        "id": "zgDsCJ7yFNkb"
      }
    },
    {
      "cell_type": "code",
      "source": [
        "score_1 = []\n",
        "time_lapse_1 = []\n",
        "score_2 = []\n",
        "time_lapse_2 = []\n",
        "\n",
        "for i in [100, 1000, 10000, 75000]:\n",
        "  print(i)\n",
        "  patch_sklearn()\n",
        "  from sklearn.cluster import DBSCAN\n",
        "  X, y = make_moons(n_samples = i, noise=0.3, random_state=42)\n",
        "  tic = time.time()\n",
        "  model = DBSCAN(eps=1).fit_predict(X)\n",
        "  toc = time.time()\n",
        "  score_1.append(accuracy_score(y,model))\n",
        "  time_lapse_1.append(round(1000*(toc - tic),4))\n",
        "\n",
        "  unpatch_sklearn()\n",
        "  from sklearn.cluster import DBSCAN\n",
        "  tic = time.time()\n",
        "  model = DBSCAN(eps=1).fit_predict(X)\n",
        "  toc = time.time()\n",
        "  score_2.append(accuracy_score(y,model))\n",
        "  time_lapse_2.append(round(1000*(toc - tic),4))"
      ],
      "metadata": {
        "colab": {
          "base_uri": "https://localhost:8080/"
        },
        "id": "UwDFyPx_DFqf",
        "outputId": "a4909b5a-bc78-4c26-ef29-a7015acdf852"
      },
      "execution_count": 2,
      "outputs": [
        {
          "output_type": "stream",
          "name": "stdout",
          "text": [
            "100\n",
            "1000\n",
            "10000\n"
          ]
        },
        {
          "output_type": "stream",
          "name": "stderr",
          "text": [
            "Intel(R) Extension for Scikit-learn* enabled (https://github.com/intel/scikit-learn-intelex)\n",
            "Intel(R) Extension for Scikit-learn* enabled (https://github.com/intel/scikit-learn-intelex)\n",
            "Intel(R) Extension for Scikit-learn* enabled (https://github.com/intel/scikit-learn-intelex)\n"
          ]
        },
        {
          "output_type": "stream",
          "name": "stdout",
          "text": [
            "75000\n"
          ]
        },
        {
          "output_type": "stream",
          "name": "stderr",
          "text": [
            "Intel(R) Extension for Scikit-learn* enabled (https://github.com/intel/scikit-learn-intelex)\n"
          ]
        }
      ]
    },
    {
      "cell_type": "code",
      "source": [
        "results = pd.DataFrame({'Size':[100, 1000, 10000, 75000],\n",
        "              'Boost_Score':score_1, \n",
        "              'Boost_Time (ms)':time_lapse_1,\n",
        "              'Normal_Score':score_2, \n",
        "              'Normal_Time (ms)':time_lapse_2,\n",
        "              'Speed_X':[round(a/b,4) for a,b in zip(time_lapse_2,time_lapse_1)]})\n",
        "display(results)"
      ],
      "metadata": {
        "colab": {
          "base_uri": "https://localhost:8080/",
          "height": 174
        },
        "id": "Bz3OnAyYpRYD",
        "outputId": "8259c07a-1370-4e64-f0ab-d2e02863ad84"
      },
      "execution_count": 3,
      "outputs": [
        {
          "output_type": "display_data",
          "data": {
            "text/plain": [
              "    Size  Boost_Score  Boost_Time (ms)  Normal_Score  Normal_Time (ms)  \\\n",
              "0    100          0.5          22.2297           0.5            1.7951   \n",
              "1   1000          0.5           9.9516           0.5           19.0363   \n",
              "2  10000          0.5         581.4903           0.5         1007.3109   \n",
              "3  75000          0.5       31517.9791           0.5        43770.6676   \n",
              "\n",
              "   Speed_X  \n",
              "0   0.0808  \n",
              "1   1.9129  \n",
              "2   1.7323  \n",
              "3   1.3888  "
            ],
            "text/html": [
              "\n",
              "  <div id=\"df-739d1b7c-bd54-4913-beea-e02e18f626b2\">\n",
              "    <div class=\"colab-df-container\">\n",
              "      <div>\n",
              "<style scoped>\n",
              "    .dataframe tbody tr th:only-of-type {\n",
              "        vertical-align: middle;\n",
              "    }\n",
              "\n",
              "    .dataframe tbody tr th {\n",
              "        vertical-align: top;\n",
              "    }\n",
              "\n",
              "    .dataframe thead th {\n",
              "        text-align: right;\n",
              "    }\n",
              "</style>\n",
              "<table border=\"1\" class=\"dataframe\">\n",
              "  <thead>\n",
              "    <tr style=\"text-align: right;\">\n",
              "      <th></th>\n",
              "      <th>Size</th>\n",
              "      <th>Boost_Score</th>\n",
              "      <th>Boost_Time (ms)</th>\n",
              "      <th>Normal_Score</th>\n",
              "      <th>Normal_Time (ms)</th>\n",
              "      <th>Speed_X</th>\n",
              "    </tr>\n",
              "  </thead>\n",
              "  <tbody>\n",
              "    <tr>\n",
              "      <th>0</th>\n",
              "      <td>100</td>\n",
              "      <td>0.5</td>\n",
              "      <td>22.2297</td>\n",
              "      <td>0.5</td>\n",
              "      <td>1.7951</td>\n",
              "      <td>0.0808</td>\n",
              "    </tr>\n",
              "    <tr>\n",
              "      <th>1</th>\n",
              "      <td>1000</td>\n",
              "      <td>0.5</td>\n",
              "      <td>9.9516</td>\n",
              "      <td>0.5</td>\n",
              "      <td>19.0363</td>\n",
              "      <td>1.9129</td>\n",
              "    </tr>\n",
              "    <tr>\n",
              "      <th>2</th>\n",
              "      <td>10000</td>\n",
              "      <td>0.5</td>\n",
              "      <td>581.4903</td>\n",
              "      <td>0.5</td>\n",
              "      <td>1007.3109</td>\n",
              "      <td>1.7323</td>\n",
              "    </tr>\n",
              "    <tr>\n",
              "      <th>3</th>\n",
              "      <td>75000</td>\n",
              "      <td>0.5</td>\n",
              "      <td>31517.9791</td>\n",
              "      <td>0.5</td>\n",
              "      <td>43770.6676</td>\n",
              "      <td>1.3888</td>\n",
              "    </tr>\n",
              "  </tbody>\n",
              "</table>\n",
              "</div>\n",
              "      <button class=\"colab-df-convert\" onclick=\"convertToInteractive('df-739d1b7c-bd54-4913-beea-e02e18f626b2')\"\n",
              "              title=\"Convert this dataframe to an interactive table.\"\n",
              "              style=\"display:none;\">\n",
              "        \n",
              "  <svg xmlns=\"http://www.w3.org/2000/svg\" height=\"24px\"viewBox=\"0 0 24 24\"\n",
              "       width=\"24px\">\n",
              "    <path d=\"M0 0h24v24H0V0z\" fill=\"none\"/>\n",
              "    <path d=\"M18.56 5.44l.94 2.06.94-2.06 2.06-.94-2.06-.94-.94-2.06-.94 2.06-2.06.94zm-11 1L8.5 8.5l.94-2.06 2.06-.94-2.06-.94L8.5 2.5l-.94 2.06-2.06.94zm10 10l.94 2.06.94-2.06 2.06-.94-2.06-.94-.94-2.06-.94 2.06-2.06.94z\"/><path d=\"M17.41 7.96l-1.37-1.37c-.4-.4-.92-.59-1.43-.59-.52 0-1.04.2-1.43.59L10.3 9.45l-7.72 7.72c-.78.78-.78 2.05 0 2.83L4 21.41c.39.39.9.59 1.41.59.51 0 1.02-.2 1.41-.59l7.78-7.78 2.81-2.81c.8-.78.8-2.07 0-2.86zM5.41 20L4 18.59l7.72-7.72 1.47 1.35L5.41 20z\"/>\n",
              "  </svg>\n",
              "      </button>\n",
              "      \n",
              "  <style>\n",
              "    .colab-df-container {\n",
              "      display:flex;\n",
              "      flex-wrap:wrap;\n",
              "      gap: 12px;\n",
              "    }\n",
              "\n",
              "    .colab-df-convert {\n",
              "      background-color: #E8F0FE;\n",
              "      border: none;\n",
              "      border-radius: 50%;\n",
              "      cursor: pointer;\n",
              "      display: none;\n",
              "      fill: #1967D2;\n",
              "      height: 32px;\n",
              "      padding: 0 0 0 0;\n",
              "      width: 32px;\n",
              "    }\n",
              "\n",
              "    .colab-df-convert:hover {\n",
              "      background-color: #E2EBFA;\n",
              "      box-shadow: 0px 1px 2px rgba(60, 64, 67, 0.3), 0px 1px 3px 1px rgba(60, 64, 67, 0.15);\n",
              "      fill: #174EA6;\n",
              "    }\n",
              "\n",
              "    [theme=dark] .colab-df-convert {\n",
              "      background-color: #3B4455;\n",
              "      fill: #D2E3FC;\n",
              "    }\n",
              "\n",
              "    [theme=dark] .colab-df-convert:hover {\n",
              "      background-color: #434B5C;\n",
              "      box-shadow: 0px 1px 3px 1px rgba(0, 0, 0, 0.15);\n",
              "      filter: drop-shadow(0px 1px 2px rgba(0, 0, 0, 0.3));\n",
              "      fill: #FFFFFF;\n",
              "    }\n",
              "  </style>\n",
              "\n",
              "      <script>\n",
              "        const buttonEl =\n",
              "          document.querySelector('#df-739d1b7c-bd54-4913-beea-e02e18f626b2 button.colab-df-convert');\n",
              "        buttonEl.style.display =\n",
              "          google.colab.kernel.accessAllowed ? 'block' : 'none';\n",
              "\n",
              "        async function convertToInteractive(key) {\n",
              "          const element = document.querySelector('#df-739d1b7c-bd54-4913-beea-e02e18f626b2');\n",
              "          const dataTable =\n",
              "            await google.colab.kernel.invokeFunction('convertToInteractive',\n",
              "                                                     [key], {});\n",
              "          if (!dataTable) return;\n",
              "\n",
              "          const docLinkHtml = 'Like what you see? Visit the ' +\n",
              "            '<a target=\"_blank\" href=https://colab.research.google.com/notebooks/data_table.ipynb>data table notebook</a>'\n",
              "            + ' to learn more about interactive tables.';\n",
              "          element.innerHTML = '';\n",
              "          dataTable['output_type'] = 'display_data';\n",
              "          await google.colab.output.renderOutput(dataTable, element);\n",
              "          const docLink = document.createElement('div');\n",
              "          docLink.innerHTML = docLinkHtml;\n",
              "          element.appendChild(docLink);\n",
              "        }\n",
              "      </script>\n",
              "    </div>\n",
              "  </div>\n",
              "  "
            ]
          },
          "metadata": {}
        }
      ]
    },
    {
      "cell_type": "code",
      "source": [
        "sns.set_style(\"darkgrid\")\n",
        "fig, axes = plt.subplots(1, 2, figsize=(20, 6))\n",
        " \n",
        "fig.suptitle('SklearnEX vs. Normal Sklearn for DBSCAN')\n",
        "\n",
        "\n",
        "sns.lineplot(ax=axes[0], data = results, x='Size', y='Boost_Time (ms)')\n",
        "sns.lineplot(ax=axes[0], data = results, x='Size', y='Normal_Time (ms)')\n",
        "sns.lineplot(ax=axes[1], data = results, x='Size', y='Speed_X', color='green')\n",
        "\n",
        " \n",
        "axes[0].set_title('Time Used in Training')\n",
        "axes[1].set_title('Speed Ratio')\n",
        "axes[0].legend(['Boost_Time (ms)', 'Normal_Time (ms)'])\n",
        "axes[0].legend(['Speed_X'])"
      ],
      "metadata": {
        "colab": {
          "base_uri": "https://localhost:8080/",
          "height": 449
        },
        "id": "sv8F2AyUpdDi",
        "outputId": "72d7db1e-3843-4fe9-e499-8e5374be350f"
      },
      "execution_count": 4,
      "outputs": [
        {
          "output_type": "execute_result",
          "data": {
            "text/plain": [
              "<matplotlib.legend.Legend at 0x7f8b6f385110>"
            ]
          },
          "metadata": {},
          "execution_count": 4
        },
        {
          "output_type": "display_data",
          "data": {
            "text/plain": [
              "<Figure size 1440x432 with 2 Axes>"
            ],
            "image/png": "[encoded data removed]"
          },
          "metadata": {}
        }
      ]
    },
    {
      "cell_type": "markdown",
      "source": [
        "### Random Forest vs. XGBoost"
      ],
      "metadata": {
        "id": "NofT8EbODAhp"
      }
    },
    {
      "cell_type": "code",
      "source": [
        "score_1 = []\n",
        "time_lapse_1 = []\n",
        "score_2 = []\n",
        "time_lapse_2 = []\n",
        "score_3 = []\n",
        "time_lapse_3 = []\n",
        "\n",
        "for i in range(1,6):\n",
        "  print(i)\n",
        "  patch_sklearn()\n",
        "  from sklearn.ensemble import RandomForestClassifier\n",
        "  X, y = make_classification(n_samples = 10**i, n_features= 30, n_informative=25, random_state=42)\n",
        "  tic = time.time()\n",
        "  model = RandomForestClassifier(random_state = 42).fit(X, y)\n",
        "  toc = time.time()\n",
        "  score_1.append(accuracy_score(y,model.predict(X)))\n",
        "  time_lapse_1.append(round(1000*(toc - tic),4))\n",
        "\n",
        "  unpatch_sklearn()\n",
        "  from sklearn.ensemble import RandomForestClassifier\n",
        "  tic = time.time()\n",
        "  model = RandomForestClassifier(random_state=42).fit(X, y)\n",
        "  toc = time.time()\n",
        "  score_2.append(model.score(X,y))\n",
        "  time_lapse_2.append(round(1000*(toc - tic),4))\n",
        "\n",
        "\n",
        "  tic = time.time()\n",
        "  model = XGBClassifier(random_state = 42).fit(X, y)\n",
        "  toc = time.time()\n",
        "  score_3.append(model.score(X,y))\n",
        "  time_lapse_3.append(round(1000*(toc - tic),4))\n"
      ],
      "metadata": {
        "colab": {
          "base_uri": "https://localhost:8080/"
        },
        "id": "lQ9Y9gP6phi8",
        "outputId": "b51034bf-31d9-443e-a8af-5ebb7bb40cbc"
      },
      "execution_count": 8,
      "outputs": [
        {
          "output_type": "stream",
          "name": "stdout",
          "text": [
            "1\n",
            "2\n"
          ]
        },
        {
          "output_type": "stream",
          "name": "stderr",
          "text": [
            "Intel(R) Extension for Scikit-learn* enabled (https://github.com/intel/scikit-learn-intelex)\n",
            "Intel(R) Extension for Scikit-learn* enabled (https://github.com/intel/scikit-learn-intelex)\n"
          ]
        },
        {
          "output_type": "stream",
          "name": "stdout",
          "text": [
            "3\n"
          ]
        },
        {
          "output_type": "stream",
          "name": "stderr",
          "text": [
            "Intel(R) Extension for Scikit-learn* enabled (https://github.com/intel/scikit-learn-intelex)\n"
          ]
        },
        {
          "output_type": "stream",
          "name": "stdout",
          "text": [
            "4\n"
          ]
        },
        {
          "output_type": "stream",
          "name": "stderr",
          "text": [
            "Intel(R) Extension for Scikit-learn* enabled (https://github.com/intel/scikit-learn-intelex)\n"
          ]
        },
        {
          "output_type": "stream",
          "name": "stdout",
          "text": [
            "5\n"
          ]
        },
        {
          "output_type": "stream",
          "name": "stderr",
          "text": [
            "Intel(R) Extension for Scikit-learn* enabled (https://github.com/intel/scikit-learn-intelex)\n"
          ]
        }
      ]
    },
    {
      "cell_type": "code",
      "source": [
        "results = pd.DataFrame({'Size':[10**i for i in range(1,6)],\n",
        "              'Boost_Score':score_1, \n",
        "              'Boost_Time (ms)':time_lapse_1,\n",
        "              'Normal_Score':score_2, \n",
        "              'Normal_Time (ms)':time_lapse_2,\n",
        "              'XGB_Score':score_3, \n",
        "              'XGB_Time (ms)':time_lapse_3,\n",
        "              'Speed_X_RR':[round(a/b,4) for a,b in zip(time_lapse_2,time_lapse_1)],\n",
        "              'Speed_X_RX':[round(a/b,4) for a,b in zip(time_lapse_3,time_lapse_1)],\n",
        "              'Speed_X_XR':[round(a/b,4) for a,b in zip(time_lapse_3,time_lapse_2)]})\n",
        "display(results)"
      ],
      "metadata": {
        "colab": {
          "base_uri": "https://localhost:8080/",
          "height": 206
        },
        "id": "N768nfID5hRF",
        "outputId": "9639035b-e01f-4c10-c035-34cc8180b2ea"
      },
      "execution_count": 9,
      "outputs": [
        {
          "output_type": "display_data",
          "data": {
            "text/plain": [
              "     Size  Boost_Score  Boost_Time (ms)  Normal_Score  Normal_Time (ms)  \\\n",
              "0      10          1.0          32.2576           1.0          124.6531   \n",
              "1     100          1.0          40.0150           1.0          145.0255   \n",
              "2    1000          1.0          94.8870           1.0          446.7397   \n",
              "3   10000          1.0         681.3552           1.0         4788.4700   \n",
              "4  100000          1.0        6790.6065           1.0        71445.8275   \n",
              "\n",
              "   XGB_Score  XGB_Time (ms)  Speed_X_RR  Speed_X_RX  Speed_X_XR  \n",
              "0    1.00000        11.3595      3.8643      0.3521      0.0911  \n",
              "1    1.00000        30.9222      3.6243      0.7728      0.2132  \n",
              "2    0.98000       231.6270      4.7081      2.4411      0.5185  \n",
              "3    0.92370      2155.8199      7.0279      3.1640      0.4502  \n",
              "4    0.87299     24329.9601     10.5213      3.5829      0.3405  "
            ],
            "text/html": [
              "\n",
              "  <div id=\"df-a760426d-bd18-4533-b5c1-781e8953d1b5\">\n",
              "    <div class=\"colab-df-container\">\n",
              "      <div>\n",
              "<style scoped>\n",
              "    .dataframe tbody tr th:only-of-type {\n",
              "        vertical-align: middle;\n",
              "    }\n",
              "\n",
              "    .dataframe tbody tr th {\n",
              "        vertical-align: top;\n",
              "    }\n",
              "\n",
              "    .dataframe thead th {\n",
              "        text-align: right;\n",
              "    }\n",
              "</style>\n",
              "<table border=\"1\" class=\"dataframe\">\n",
              "  <thead>\n",
              "    <tr style=\"text-align: right;\">\n",
              "      <th></th>\n",
              "      <th>Size</th>\n",
              "      <th>Boost_Score</th>\n",
              "      <th>Boost_Time (ms)</th>\n",
              "      <th>Normal_Score</th>\n",
              "      <th>Normal_Time (ms)</th>\n",
              "      <th>XGB_Score</th>\n",
              "      <th>XGB_Time (ms)</th>\n",
              "      <th>Speed_X_RR</th>\n",
              "      <th>Speed_X_RX</th>\n",
              "      <th>Speed_X_XR</th>\n",
              "    </tr>\n",
              "  </thead>\n",
              "  <tbody>\n",
              "    <tr>\n",
              "      <th>0</th>\n",
              "      <td>10</td>\n",
              "      <td>1.0</td>\n",
              "      <td>32.2576</td>\n",
              "      <td>1.0</td>\n",
              "      <td>124.6531</td>\n",
              "      <td>1.00000</td>\n",
              "      <td>11.3595</td>\n",
              "      <td>3.8643</td>\n",
              "      <td>0.3521</td>\n",
              "      <td>0.0911</td>\n",
              "    </tr>\n",
              "    <tr>\n",
              "      <th>1</th>\n",
              "      <td>100</td>\n",
              "      <td>1.0</td>\n",
              "      <td>40.0150</td>\n",
              "      <td>1.0</td>\n",
              "      <td>145.0255</td>\n",
              "      <td>1.00000</td>\n",
              "      <td>30.9222</td>\n",
              "      <td>3.6243</td>\n",
              "      <td>0.7728</td>\n",
              "      <td>0.2132</td>\n",
              "    </tr>\n",
              "    <tr>\n",
              "      <th>2</th>\n",
              "      <td>1000</td>\n",
              "      <td>1.0</td>\n",
              "      <td>94.8870</td>\n",
              "      <td>1.0</td>\n",
              "      <td>446.7397</td>\n",
              "      <td>0.98000</td>\n",
              "      <td>231.6270</td>\n",
              "      <td>4.7081</td>\n",
              "      <td>2.4411</td>\n",
              "      <td>0.5185</td>\n",
              "    </tr>\n",
              "    <tr>\n",
              "      <th>3</th>\n",
              "      <td>10000</td>\n",
              "      <td>1.0</td>\n",
              "      <td>681.3552</td>\n",
              "      <td>1.0</td>\n",
              "      <td>4788.4700</td>\n",
              "      <td>0.92370</td>\n",
              "      <td>2155.8199</td>\n",
              "      <td>7.0279</td>\n",
              "      <td>3.1640</td>\n",
              "      <td>0.4502</td>\n",
              "    </tr>\n",
              "    <tr>\n",
              "      <th>4</th>\n",
              "      <td>100000</td>\n",
              "      <td>1.0</td>\n",
              "      <td>6790.6065</td>\n",
              "      <td>1.0</td>\n",
              "      <td>71445.8275</td>\n",
              "      <td>0.87299</td>\n",
              "      <td>24329.9601</td>\n",
              "      <td>10.5213</td>\n",
              "      <td>3.5829</td>\n",
              "      <td>0.3405</td>\n",
              "    </tr>\n",
              "  </tbody>\n",
              "</table>\n",
              "</div>\n",
              "      <button class=\"colab-df-convert\" onclick=\"convertToInteractive('df-a760426d-bd18-4533-b5c1-781e8953d1b5')\"\n",
              "              title=\"Convert this dataframe to an interactive table.\"\n",
              "              style=\"display:none;\">\n",
              "        \n",
              "  <svg xmlns=\"http://www.w3.org/2000/svg\" height=\"24px\"viewBox=\"0 0 24 24\"\n",
              "       width=\"24px\">\n",
              "    <path d=\"M0 0h24v24H0V0z\" fill=\"none\"/>\n",
              "    <path d=\"M18.56 5.44l.94 2.06.94-2.06 2.06-.94-2.06-.94-.94-2.06-.94 2.06-2.06.94zm-11 1L8.5 8.5l.94-2.06 2.06-.94-2.06-.94L8.5 2.5l-.94 2.06-2.06.94zm10 10l.94 2.06.94-2.06 2.06-.94-2.06-.94-.94-2.06-.94 2.06-2.06.94z\"/><path d=\"M17.41 7.96l-1.37-1.37c-.4-.4-.92-.59-1.43-.59-.52 0-1.04.2-1.43.59L10.3 9.45l-7.72 7.72c-.78.78-.78 2.05 0 2.83L4 21.41c.39.39.9.59 1.41.59.51 0 1.02-.2 1.41-.59l7.78-7.78 2.81-2.81c.8-.78.8-2.07 0-2.86zM5.41 20L4 18.59l7.72-7.72 1.47 1.35L5.41 20z\"/>\n",
              "  </svg>\n",
              "      </button>\n",
              "      \n",
              "  <style>\n",
              "    .colab-df-container {\n",
              "      display:flex;\n",
              "      flex-wrap:wrap;\n",
              "      gap: 12px;\n",
              "    }\n",
              "\n",
              "    .colab-df-convert {\n",
              "      background-color: #E8F0FE;\n",
              "      border: none;\n",
              "      border-radius: 50%;\n",
              "      cursor: pointer;\n",
              "      display: none;\n",
              "      fill: #1967D2;\n",
              "      height: 32px;\n",
              "      padding: 0 0 0 0;\n",
              "      width: 32px;\n",
              "    }\n",
              "\n",
              "    .colab-df-convert:hover {\n",
              "      background-color: #E2EBFA;\n",
              "      box-shadow: 0px 1px 2px rgba(60, 64, 67, 0.3), 0px 1px 3px 1px rgba(60, 64, 67, 0.15);\n",
              "      fill: #174EA6;\n",
              "    }\n",
              "\n",
              "    [theme=dark] .colab-df-convert {\n",
              "      background-color: #3B4455;\n",
              "      fill: #D2E3FC;\n",
              "    }\n",
              "\n",
              "    [theme=dark] .colab-df-convert:hover {\n",
              "      background-color: #434B5C;\n",
              "      box-shadow: 0px 1px 3px 1px rgba(0, 0, 0, 0.15);\n",
              "      filter: drop-shadow(0px 1px 2px rgba(0, 0, 0, 0.3));\n",
              "      fill: #FFFFFF;\n",
              "    }\n",
              "  </style>\n",
              "\n",
              "      <script>\n",
              "        const buttonEl =\n",
              "          document.querySelector('#df-a760426d-bd18-4533-b5c1-781e8953d1b5 button.colab-df-convert');\n",
              "        buttonEl.style.display =\n",
              "          google.colab.kernel.accessAllowed ? 'block' : 'none';\n",
              "\n",
              "        async function convertToInteractive(key) {\n",
              "          const element = document.querySelector('#df-a760426d-bd18-4533-b5c1-781e8953d1b5');\n",
              "          const dataTable =\n",
              "            await google.colab.kernel.invokeFunction('convertToInteractive',\n",
              "                                                     [key], {});\n",
              "          if (!dataTable) return;\n",
              "\n",
              "          const docLinkHtml = 'Like what you see? Visit the ' +\n",
              "            '<a target=\"_blank\" href=https://colab.research.google.com/notebooks/data_table.ipynb>data table notebook</a>'\n",
              "            + ' to learn more about interactive tables.';\n",
              "          element.innerHTML = '';\n",
              "          dataTable['output_type'] = 'display_data';\n",
              "          await google.colab.output.renderOutput(dataTable, element);\n",
              "          const docLink = document.createElement('div');\n",
              "          docLink.innerHTML = docLinkHtml;\n",
              "          element.appendChild(docLink);\n",
              "        }\n",
              "      </script>\n",
              "    </div>\n",
              "  </div>\n",
              "  "
            ]
          },
          "metadata": {}
        }
      ]
    },
    {
      "cell_type": "code",
      "source": [
        "sns.set_style(\"darkgrid\")\n",
        "fig, axes = plt.subplots(1, 2, figsize=(20, 6))\n",
        " \n",
        "fig.suptitle('SklearnEX vs. Normal Sklearn for RandomForest/XGBoost')\n",
        "\n",
        "\n",
        "sns.lineplot(ax=axes[0], data = results, x='Size', y='Boost_Time (ms)')\n",
        "sns.lineplot(ax=axes[0], data = results, x='Size', y='Normal_Time (ms)')\n",
        "sns.lineplot(ax=axes[0], data = results, x='Size', y='XGB_Time (ms)')\n",
        "sns.lineplot(ax=axes[1], data = results, x='Size', y='Speed_X_RR', color='green')\n",
        "sns.lineplot(ax=axes[1], data = results, x='Size', y='Speed_X_RX', color='purple')\n",
        "sns.lineplot(ax=axes[1], data = results, x='Size', y='Speed_X_XR', color='red')\n",
        "\n",
        " \n",
        "axes[0].set_title('Time Used in Training')\n",
        "axes[1].set_title('Speed Ratio')\n",
        "axes[0].legend(['Boost_Time (ms)', 'Normal_Time (ms)', 'XGB_Time (ms)'])\n",
        "axes[1].legend(['Speed_X_RR','Speed_X_RX','Speed_X_XR'])"
      ],
      "metadata": {
        "colab": {
          "base_uri": "https://localhost:8080/",
          "height": 449
        },
        "id": "QZz28rk77nEE",
        "outputId": "7f7ca88e-c56f-4c12-d865-abb641f3c662"
      },
      "execution_count": 10,
      "outputs": [
        {
          "output_type": "execute_result",
          "data": {
            "text/plain": [
              "<matplotlib.legend.Legend at 0x7f8b6e7d4c10>"
            ]
          },
          "metadata": {},
          "execution_count": 10
        },
        {
          "output_type": "display_data",
          "data": {
            "text/plain": [
              "<Figure size 1440x432 with 2 Axes>"
            ],
            "image/png": "[encoded data removed]"
          },
          "metadata": {}
        }
      ]
    }
  ]
}
